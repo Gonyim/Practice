{
  "nbformat": 4,
  "nbformat_minor": 0,
  "metadata": {
    "colab": {
      "provenance": [],
      "authorship_tag": "ABX9TyNQvhplOOGu1h57v4AJD0C5",
      "include_colab_link": true
    },
    "kernelspec": {
      "name": "python3",
      "display_name": "Python 3"
    },
    "language_info": {
      "name": "python"
    }
  },
  "cells": [
    {
      "cell_type": "markdown",
      "metadata": {
        "id": "view-in-github",
        "colab_type": "text"
      },
      "source": [
        "<a href=\"https://colab.research.google.com/github/Gonyim/Practice/blob/main/programmers_lv0.ipynb\" target=\"_parent\"><img src=\"https://colab.research.google.com/assets/colab-badge.svg\" alt=\"Open In Colab\"/></a>"
      ]
    },
    {
      "cell_type": "code",
      "execution_count": null,
      "metadata": {
        "id": "LBDreLBhmCsV"
      },
      "outputs": [],
      "source": [
        "# 문제 설명\n",
        "# 문자열 s를 숫자로 변환한 결과를 반환하는 함수, solution을 완성하세요.\n",
        "\n",
        "# 제한 조건\n",
        "# s의 길이는 1 이상 5이하입니다.\n",
        "# s의 맨앞에는 부호(+, -)가 올 수 있습니다.\n",
        "# s는 부호와 숫자로만 이루어져있습니다.\n",
        "# s는 \"0\"으로 시작하지 않습니다.\n",
        "# 입출력 예\n",
        "# 예를들어 str이 \"1234\"이면 1234를 반환하고, \"-1234\"이면 -1234를 반환하면 됩니다.\n",
        "# str은 부호(+,-)와 숫자로만 구성되어 있고, 잘못된 값이 입력되는 경우는 없습니다."
      ]
    },
    {
      "cell_type": "code",
      "source": [
        "def solution():\n",
        "    s = int(s)\n",
        "    return s\n",
        "\n"
      ],
      "metadata": {
        "colab": {
          "base_uri": "https://localhost:8080/"
        },
        "id": "XqQ4DQdsmOmU",
        "outputId": "f492dd1a-d090-4654-cbc2-8600e5347692"
      },
      "execution_count": 7,
      "outputs": [
        {
          "output_type": "stream",
          "name": "stdout",
          "text": [
            "1234\n"
          ]
        }
      ]
    },
    {
      "cell_type": "code",
      "source": [
        "# 자연수 N이 주어지면, N의 각 자릿수의 합을 구해서 return 하는 solution 함수를 만들어 주세요.\n",
        "# 예를들어 N = 123이면 1 + 2 + 3 = 6을 return 하면 됩니다."
      ],
      "metadata": {
        "id": "KuGi52FPzimM"
      },
      "execution_count": null,
      "outputs": []
    },
    {
      "cell_type": "code",
      "source": [
        "n = 123\n",
        "m = str(n)\n",
        "# str(n)\n",
        "# spilt()\n",
        "\n",
        "# b = 'dsffsdfds'\n",
        "\n",
        "for i in len(m):\n",
        "    sum += int(m[i])\n",
        "\n",
        "\n",
        "sum = list(m[0]) + list(m[1]) + list(m[2])\n",
        "int(m[0]) + int(m[1]) + int(m[2])\n",
        "# n.split(',')"
      ],
      "metadata": {
        "colab": {
          "base_uri": "https://localhost:8080/"
        },
        "id": "vnMowtrUzj-b",
        "outputId": "b456cbb6-4548-4698-bfbc-ab0ceee7f1a1"
      },
      "execution_count": 28,
      "outputs": [
        {
          "output_type": "execute_result",
          "data": {
            "text/plain": [
              "3"
            ]
          },
          "metadata": {},
          "execution_count": 28
        }
      ]
    },
    {
      "cell_type": "code",
      "source": [
        "def solution():\n",
        "    for i in len(m):\n",
        "        sum += int(m[i])\n",
        "\n",
        "print(sum)"
      ],
      "metadata": {
        "id": "gN_IpgrBob1j"
      },
      "execution_count": null,
      "outputs": []
    },
    {
      "cell_type": "code",
      "source": [
        "#100,000,000 이하 자연수\n",
        "\n",
        "def solution(n):\n",
        "    answer = 0\n",
        "    a = n // 100000000\n",
        "    n = n % 100000000\n",
        "    b = n // 10000000\n",
        "    n = n % 10000000\n",
        "    c = n // 1000000\n",
        "    n = n % 1000000\n",
        "    d = n // 100000\n",
        "    n = n % 100000\n",
        "    e = n // 100000\n",
        "    n = n % 100000\n",
        "    f = n // 100000\n",
        "    n = n % 100000\n",
        "    g = n // 10000\n",
        "    n = n % 10000\n",
        "    h = n // 1000\n",
        "    n = n % 1000\n",
        "    i = n // 100\n",
        "    n = n % 100\n",
        "    j = n // 10\n",
        "    k = n % 10\n",
        "    answer = a + b + c + d + e + f + g + h + i + j + k\n",
        "    return answer"
      ],
      "metadata": {
        "colab": {
          "base_uri": "https://localhost:8080/"
        },
        "id": "pKq0pLrn1K6C",
        "outputId": "0cd4a5ba-aba8-4936-d0a4-0a4dcadbc30d"
      },
      "execution_count": 53,
      "outputs": [
        {
          "output_type": "execute_result",
          "data": {
            "text/plain": [
              "1"
            ]
          },
          "metadata": {},
          "execution_count": 53
        }
      ]
    },
    {
      "cell_type": "code",
      "source": [
        "def solution():\n",
        "    answoer = 0\n",
        "    "
      ],
      "metadata": {
        "id": "U8sElQGi3mR5"
      },
      "execution_count": null,
      "outputs": []
    },
    {
      "cell_type": "code",
      "source": [
        "# 예를 들어, 상수의 앞에 쌓이는 재료의 순서가 [야채, 빵, 빵, 야채, 고기, 빵, 야채, 고기, 빵]일 때, \n",
        "# 상수는 여섯 번째 재료가 쌓였을 때, 세 번째 재료부터 여섯 번째 재료를 이용하여 햄버거를 포장하고, \n",
        "# 아홉 번째 재료가 쌓였을 때, 두 번째 재료와 일곱 번째 재료부터 아홉 번째 재료를 이용하여 햄버거를 포장합니다.\n",
        "# 즉, 2개의 햄버거를 포장하게 됩니다.\n",
        "\n",
        "# 상수에게 전해지는 재료의 정보를 나타내는 정수 배열 ingredient가 주어졌을 때,\n",
        "# 상수가 포장하는 햄버거의 개수를 return 하도록 solution 함수를 완성하시오."
      ],
      "metadata": {
        "id": "ppmrA_S4pCOG"
      },
      "execution_count": null,
      "outputs": []
    },
    {
      "cell_type": "code",
      "source": [
        "# [2, 1, 1, 2, 3, 1, 2, 3, 1]\t2\n",
        "# [1, 3, 2, 1, 2, 1, 3, 1, 2]\t0"
      ],
      "metadata": {
        "id": "mxMxF_srpLyZ"
      },
      "execution_count": null,
      "outputs": []
    },
    {
      "cell_type": "code",
      "source": [
        "l = [2, 1, 1, 2, 3, 1, 2, 3, 1]\n",
        "h = []\n",
        "ham_count = 0\n",
        "\n",
        "for i in l:\n",
        "    h.append(i)\n",
        "    if [1, 2, 3, 1] in h:\n",
        "        remove,l[1, 2, 3, 1]\n",
        "        ham_count += 1\n",
        "\n",
        "ham_count"
      ],
      "metadata": {
        "colab": {
          "base_uri": "https://localhost:8080/"
        },
        "id": "M9MQXZJTpP_h",
        "outputId": "d3125b5b-dd29-4885-96d3-dea9c6ea4314"
      },
      "execution_count": 30,
      "outputs": [
        {
          "output_type": "execute_result",
          "data": {
            "text/plain": [
              "0"
            ]
          },
          "metadata": {},
          "execution_count": 30
        }
      ]
    },
    {
      "cell_type": "code",
      "source": [
        "l = [2, 1, 1, 2, 3, 1, 2, 3, 1]\n",
        "\n",
        "1, 2, 3 in l"
      ],
      "metadata": {
        "colab": {
          "base_uri": "https://localhost:8080/"
        },
        "id": "rJ1uqSQsqzPA",
        "outputId": "95a705c8-dc80-4a21-bdba-a6ca0fa5924b"
      },
      "execution_count": 19,
      "outputs": [
        {
          "output_type": "execute_result",
          "data": {
            "text/plain": [
              "(1, 2, True)"
            ]
          },
          "metadata": {},
          "execution_count": 19
        }
      ]
    }
  ]
}