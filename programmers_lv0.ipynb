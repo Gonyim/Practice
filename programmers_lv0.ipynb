{
  "nbformat": 4,
  "nbformat_minor": 0,
  "metadata": {
    "colab": {
      "provenance": [],
      "authorship_tag": "ABX9TyPovtake3gW3pbNz9x4X5ly",
      "include_colab_link": true
    },
    "kernelspec": {
      "name": "python3",
      "display_name": "Python 3"
    },
    "language_info": {
      "name": "python"
    }
  },
  "cells": [
    {
      "cell_type": "markdown",
      "metadata": {
        "id": "view-in-github",
        "colab_type": "text"
      },
      "source": [
        "<a href=\"https://colab.research.google.com/github/Gonyim/Practice/blob/main/programmers_lv0.ipynb\" target=\"_parent\"><img src=\"https://colab.research.google.com/assets/colab-badge.svg\" alt=\"Open In Colab\"/></a>"
      ]
    },
    {
      "cell_type": "code",
      "execution_count": null,
      "metadata": {
        "id": "LBDreLBhmCsV"
      },
      "outputs": [],
      "source": [
        "# 문제 설명\n",
        "# 문자열 s를 숫자로 변환한 결과를 반환하는 함수, solution을 완성하세요.\n",
        "\n",
        "# 제한 조건\n",
        "# s의 길이는 1 이상 5이하입니다.\n",
        "# s의 맨앞에는 부호(+, -)가 올 수 있습니다.\n",
        "# s는 부호와 숫자로만 이루어져있습니다.\n",
        "# s는 \"0\"으로 시작하지 않습니다.\n",
        "# 입출력 예\n",
        "# 예를들어 str이 \"1234\"이면 1234를 반환하고, \"-1234\"이면 -1234를 반환하면 됩니다.\n",
        "# str은 부호(+,-)와 숫자로만 구성되어 있고, 잘못된 값이 입력되는 경우는 없습니다."
      ]
    },
    {
      "cell_type": "code",
      "source": [
        "def solution():\n",
        "    s = int(s)\n",
        "    return s\n",
        "\n"
      ],
      "metadata": {
        "colab": {
          "base_uri": "https://localhost:8080/"
        },
        "id": "XqQ4DQdsmOmU",
        "outputId": "f492dd1a-d090-4654-cbc2-8600e5347692"
      },
      "execution_count": null,
      "outputs": [
        {
          "output_type": "stream",
          "name": "stdout",
          "text": [
            "1234\n"
          ]
        }
      ]
    },
    {
      "cell_type": "code",
      "source": [
        "# 자연수 N이 주어지면, N의 각 자릿수의 합을 구해서 return 하는 solution 함수를 만들어 주세요.\n",
        "# 예를들어 N = 123이면 1 + 2 + 3 = 6을 return 하면 됩니다."
      ],
      "metadata": {
        "id": "KuGi52FPzimM"
      },
      "execution_count": null,
      "outputs": []
    },
    {
      "cell_type": "code",
      "source": [
        "n = 123\n",
        "m = str(n)\n",
        "# str(n)\n",
        "# spilt()\n",
        "\n",
        "# b = 'dsffsdfds'\n",
        "\n",
        "for i in len(m):\n",
        "    sum += int(m[i])\n",
        "\n",
        "\n",
        "sum = list(m[0]) + list(m[1]) + list(m[2])\n",
        "int(m[0]) + int(m[1]) + int(m[2])\n",
        "# n.split(',')"
      ],
      "metadata": {
        "colab": {
          "base_uri": "https://localhost:8080/"
        },
        "id": "vnMowtrUzj-b",
        "outputId": "b456cbb6-4548-4698-bfbc-ab0ceee7f1a1"
      },
      "execution_count": null,
      "outputs": [
        {
          "output_type": "execute_result",
          "data": {
            "text/plain": [
              "3"
            ]
          },
          "metadata": {},
          "execution_count": 28
        }
      ]
    },
    {
      "cell_type": "code",
      "source": [
        "n = 124223\n",
        "total_sum = 0 \n",
        "def solution():\n",
        "    \n",
        "    for i in range(0, len(str(n))):\n",
        "        total_sum += int(str(n)[i])\n",
        "    return total_sum\n",
        "\n",
        "result = solution()\n",
        "print(result)"
      ],
      "metadata": {
        "colab": {
          "base_uri": "https://localhost:8080/"
        },
        "id": "gN_IpgrBob1j",
        "outputId": "9f5319e0-aa06-461e-a13d-f677c42227b8"
      },
      "execution_count": null,
      "outputs": [
        {
          "output_type": "stream",
          "name": "stdout",
          "text": [
            "14\n"
          ]
        }
      ]
    },
    {
      "cell_type": "code",
      "source": [
        "n = 124223\n",
        "\n",
        "def solution():\n",
        "    total = 0\n",
        "    for i in range(0, len(str(n))):\n",
        "        total += int(str(n)[i])\n",
        "    \n",
        "    return total\n",
        "\n",
        "result = solution()\n",
        "print(result)  # 출력: 14\n"
      ],
      "metadata": {
        "colab": {
          "base_uri": "https://localhost:8080/"
        },
        "id": "cl1IZRpFrOvO",
        "outputId": "e74e2ec8-9b75-4d45-8b97-fead4d97e569"
      },
      "execution_count": null,
      "outputs": [
        {
          "output_type": "stream",
          "name": "stdout",
          "text": [
            "14\n"
          ]
        }
      ]
    },
    {
      "cell_type": "code",
      "source": [
        "#100,000,000 이하 자연수\n",
        "\n",
        "def solution(n):\n",
        "    answer = 0\n",
        "    a = n // 100000000\n",
        "    n = n % 100000000\n",
        "    b = n // 10000000\n",
        "    n = n % 10000000\n",
        "    c = n // 1000000\n",
        "    n = n % 1000000\n",
        "    d = n // 100000\n",
        "    n = n % 100000\n",
        "    e = n // 100000\n",
        "    n = n % 100000\n",
        "    f = n // 100000\n",
        "    n = n % 100000\n",
        "    g = n // 10000\n",
        "    n = n % 10000\n",
        "    h = n // 1000\n",
        "    n = n % 1000\n",
        "    i = n // 100\n",
        "    n = n % 100\n",
        "    j = n // 10\n",
        "    k = n % 10\n",
        "    answer = a + b + c + d + e + f + g + h + i + j + k\n",
        "    return answer"
      ],
      "metadata": {
        "colab": {
          "base_uri": "https://localhost:8080/"
        },
        "id": "pKq0pLrn1K6C",
        "outputId": "0cd4a5ba-aba8-4936-d0a4-0a4dcadbc30d"
      },
      "execution_count": null,
      "outputs": [
        {
          "output_type": "execute_result",
          "data": {
            "text/plain": [
              "1"
            ]
          },
          "metadata": {},
          "execution_count": 53
        }
      ]
    },
    {
      "cell_type": "code",
      "source": [
        "def solution():\n",
        "    answoer = 0\n",
        "    "
      ],
      "metadata": {
        "id": "U8sElQGi3mR5"
      },
      "execution_count": null,
      "outputs": []
    },
    {
      "cell_type": "code",
      "source": [
        "# 예를 들어, 상수의 앞에 쌓이는 재료의 순서가 [야채, 빵, 빵, 야채, 고기, 빵, 야채, 고기, 빵]일 때, \n",
        "# 상수는 여섯 번째 재료가 쌓였을 때, 세 번째 재료부터 여섯 번째 재료를 이용하여 햄버거를 포장하고, \n",
        "# 아홉 번째 재료가 쌓였을 때, 두 번째 재료와 일곱 번째 재료부터 아홉 번째 재료를 이용하여 햄버거를 포장합니다.\n",
        "# 즉, 2개의 햄버거를 포장하게 됩니다.\n",
        "\n",
        "# 상수에게 전해지는 재료의 정보를 나타내는 정수 배열 ingredient가 주어졌을 때,\n",
        "# 상수가 포장하는 햄버거의 개수를 return 하도록 solution 함수를 완성하시오."
      ],
      "metadata": {
        "id": "ppmrA_S4pCOG"
      },
      "execution_count": null,
      "outputs": []
    },
    {
      "cell_type": "code",
      "source": [
        "# [2, 1, 1, 2, 3, 1, 2, 3, 1]\t2\n",
        "# [1, 3, 2, 1, 2, 1, 3, 1, 2]\t0"
      ],
      "metadata": {
        "id": "mxMxF_srpLyZ"
      },
      "execution_count": null,
      "outputs": []
    },
    {
      "cell_type": "code",
      "source": [
        "l = [2, 1, 1, 2, 3, 1, 2, 3, 1]\n",
        "h = []\n",
        "ham_count = 0\n",
        "\n",
        "for i in l:\n",
        "    h.append(i)\n",
        "    if [1, 2, 3, 1] in h:\n",
        "        remove,l[1, 2, 3, 1]\n",
        "        ham_count += 1\n",
        "\n",
        "ham_count"
      ],
      "metadata": {
        "colab": {
          "base_uri": "https://localhost:8080/"
        },
        "id": "M9MQXZJTpP_h",
        "outputId": "d3125b5b-dd29-4885-96d3-dea9c6ea4314"
      },
      "execution_count": null,
      "outputs": [
        {
          "output_type": "execute_result",
          "data": {
            "text/plain": [
              "0"
            ]
          },
          "metadata": {},
          "execution_count": 30
        }
      ]
    },
    {
      "cell_type": "code",
      "source": [
        "l = [2, 1, 1, 2, 3, 1, 2, 3, 1]\n",
        "\n",
        "1, 2, 3 in l"
      ],
      "metadata": {
        "colab": {
          "base_uri": "https://localhost:8080/"
        },
        "id": "rJ1uqSQsqzPA",
        "outputId": "95a705c8-dc80-4a21-bdba-a6ca0fa5924b"
      },
      "execution_count": null,
      "outputs": [
        {
          "output_type": "execute_result",
          "data": {
            "text/plain": [
              "(1, 2, True)"
            ]
          },
          "metadata": {},
          "execution_count": 19
        }
      ]
    },
    {
      "cell_type": "code",
      "source": [
        "# 2023/05/18"
      ],
      "metadata": {
        "id": "0GAAvF5y5bcC"
      },
      "execution_count": null,
      "outputs": []
    },
    {
      "cell_type": "code",
      "source": [
        "# 대문자와 소문자가 섞여있는 문자열 s가 주어집니다. s에 'p'의 개수와 'y'의 개수를 비교해 같으면 True, 다르면 False를 return 하는 solution를 완성하세요. 'p', 'y' 모두 하나도 없는 경우는 항상 True를 리턴합니다. 단, 개수를 비교할 때 대문자와 소문자는 구별하지 않습니다.\n",
        "\n",
        "# 예를 들어 s가 \"pPoooyY\"면 true를 return하고 \"Pyy\"라면 false를 return합니다."
      ],
      "metadata": {
        "id": "NLwQ-a665dRH"
      },
      "execution_count": null,
      "outputs": []
    },
    {
      "cell_type": "code",
      "source": [
        "s = \"Pyy\"\n",
        "\n",
        "a = s.upper().count('P')\n",
        "b = s.upper().count('Y')\n",
        "\n",
        "print(a == b)"
      ],
      "metadata": {
        "colab": {
          "base_uri": "https://localhost:8080/"
        },
        "id": "8raWLFCe5icm",
        "outputId": "073be7f5-f36d-49e8-a23a-6feac455d46d"
      },
      "execution_count": null,
      "outputs": [
        {
          "output_type": "stream",
          "name": "stdout",
          "text": [
            "False\n"
          ]
        }
      ]
    },
    {
      "cell_type": "code",
      "source": [
        "def solution(s):\n",
        "    a = s.upper().count('P')\n",
        "    b = s.upper().count('Y')\n",
        "    return a == b\n",
        "\n",
        "solution(s)"
      ],
      "metadata": {
        "colab": {
          "base_uri": "https://localhost:8080/"
        },
        "id": "eIA58NWp5kqX",
        "outputId": "2aee90ca-ad55-4bc0-d59a-e94c9c83ea8f"
      },
      "execution_count": null,
      "outputs": [
        {
          "output_type": "execute_result",
          "data": {
            "text/plain": [
              "True"
            ]
          },
          "metadata": {},
          "execution_count": 29
        }
      ]
    },
    {
      "cell_type": "code",
      "source": [
        "[1,1,3,3,0,1,1]\t[1,3,0,1]"
      ],
      "metadata": {
        "id": "ulFCzk4f8gi0"
      },
      "execution_count": null,
      "outputs": []
    },
    {
      "cell_type": "code",
      "source": [
        "def solution(arr):\n",
        "    answer_set = []\n",
        "    answer_set = set(arr)\n",
        "    return answer_set\n",
        "\n",
        "answer_set\n",
        "\n",
        "arr()"
      ],
      "metadata": {
        "id": "xpSxiM-88hwR"
      },
      "execution_count": null,
      "outputs": []
    },
    {
      "cell_type": "code",
      "source": [
        "def solution(arr):\n",
        "    answer_set = set(arr)  # 리스트를 집합(set)으로 변환하여 중복된 원소 제거\n",
        "    return answer_set\n",
        "\n",
        "arr = [1, 1, 1, 2, 3, 3, 5, 5]\n",
        "result = solution(arr)\n",
        "\n",
        "print(result)"
      ],
      "metadata": {
        "colab": {
          "base_uri": "https://localhost:8080/"
        },
        "id": "kEDC5xP290eo",
        "outputId": "0db3946f-840b-4427-cafa-7a4dc7f3be23"
      },
      "execution_count": null,
      "outputs": [
        {
          "output_type": "stream",
          "name": "stdout",
          "text": [
            "{1, 2, 3, 5}\n"
          ]
        }
      ]
    },
    {
      "cell_type": "code",
      "source": [
        "배열 arr가 주어집니다. 배열 arr의 각 원소는 숫자 0부터 9까지로 이루어져 있습니다. 이때, 배열 arr에서 연속적으로 나타나는 숫자는 하나만 남기고 전부 제거하려고 합니다. 단, 제거된 후 남은 수들을 반환할 때는 배열 arr의 원소들의 순서를 유지해야 합니다. 예를 들면,\n",
        "\n",
        "arr = [1, 1, 3, 3, 0, 1, 1] 이면 [1, 3, 0, 1] 을 return 합니다.\n",
        "arr = [4, 4, 4, 3, 3] 이면 [4, 3] 을 return 합니다.\n",
        "배열 arr에서 연속적으로 나타나는 숫자는 제거하고 남은 수들을 return 하는 solution 함수를 완성해 주세요.\n",
        "\n",
        "제한사항\n",
        "배열 arr의 크기 : 1,000,000 이하의 자연수\n",
        "배열 arr의 원소의 크기 : 0보다 크거나 같고 9보다 작거나 같은 정수\n",
        "\n",
        "[1,1,3,3,0,1,1]\t[1,3,0,1]\n",
        "\n"
      ],
      "metadata": {
        "id": "ec6HZwlg-N8a"
      },
      "execution_count": null,
      "outputs": []
    },
    {
      "cell_type": "code",
      "source": [
        "answer = [1, 1, 2, 3, 3, 4]\n",
        "a = set(answer)\n",
        "\n",
        "a"
      ],
      "metadata": {
        "colab": {
          "base_uri": "https://localhost:8080/"
        },
        "id": "gPbsz5bE84z_",
        "outputId": "3dfaa4af-9c01-480d-9a60-370cac1e162f"
      },
      "execution_count": null,
      "outputs": [
        {
          "output_type": "execute_result",
          "data": {
            "text/plain": [
              "{1, 2, 3, 4}"
            ]
          },
          "metadata": {},
          "execution_count": 40
        }
      ]
    },
    {
      "cell_type": "code",
      "source": [
        "문자열 str이 주어질 때, str을 출력하는 코드를 작성해 보세요.\n",
        "\n",
        "제한사항\n",
        "1 ≤ str의 길이 ≤ 1,000,000\n",
        "str에는 공백이 없으며, 첫째 줄에 한 줄로만 주어집니다."
      ],
      "metadata": {
        "id": "-ymvJzsWboah"
      },
      "execution_count": null,
      "outputs": []
    },
    {
      "cell_type": "code",
      "source": [
        "str = input()\n",
        "\n",
        "print(str)"
      ],
      "metadata": {
        "colab": {
          "base_uri": "https://localhost:8080/"
        },
        "id": "h4bptTCgb5Gd",
        "outputId": "49ad399b-077e-44d5-8d06-2ae846943934"
      },
      "execution_count": null,
      "outputs": [
        {
          "output_type": "stream",
          "name": "stdout",
          "text": [
            "helloworld!!\n",
            "helloworld!!\n"
          ]
        }
      ]
    },
    {
      "cell_type": "code",
      "source": [
        "# 정수 a와 b가 주어집니다. 각 수를 입력받아 입출력 예와 같은 형식으로 출력하는 코드를 작성해 보세요."
      ],
      "metadata": {
        "id": "l8KJJ4Efd02C"
      },
      "execution_count": null,
      "outputs": []
    },
    {
      "cell_type": "code",
      "source": [
        "a,b = input().split()\n",
        "\n",
        "print(\"a =\", a)\n",
        "print(\"b =\", b)"
      ],
      "metadata": {
        "id": "gS9Ym2WfeJYP"
      },
      "execution_count": null,
      "outputs": []
    },
    {
      "cell_type": "code",
      "source": [
        "a, b = input().split()\n",
        "\n",
        "print(f'a = {a}\\nb = {b}')"
      ],
      "metadata": {
        "colab": {
          "base_uri": "https://localhost:8080/"
        },
        "id": "fpsk5pKmhdQv",
        "outputId": "04102147-2507-46e8-8484-7fb718f2f54e"
      },
      "execution_count": null,
      "outputs": [
        {
          "output_type": "stream",
          "name": "stdout",
          "text": [
            "4 5\n",
            "a = 4\n",
            "b = 5\n"
          ]
        }
      ]
    },
    {
      "cell_type": "code",
      "source": [
        "a = map(int, input())\n",
        "\n",
        "# b = int(a)\n",
        "# c = int(a)\n",
        "c = a\n",
        "type(a)\n",
        "\n",
        "print(a)\n",
        "# type(a), type(b), type(c)\n",
        "\n",
        "# print(list(c))"
      ],
      "metadata": {
        "id": "_j349-jflGlT"
      },
      "execution_count": null,
      "outputs": []
    },
    {
      "cell_type": "code",
      "source": [
        "\n",
        "a, b = map(int, input().strip().split(' '))\n",
        "print(f\"a = {a}\\nb = {b}\")\n",
        "\n",
        "type(a)\n",
        "type(b)"
      ],
      "metadata": {
        "id": "_zdoNTx-g3Rn"
      },
      "execution_count": null,
      "outputs": []
    },
    {
      "cell_type": "code",
      "source": [
        "# 문자열 str과 정수 n이 주어집니다.\n",
        "# str이 n번 반복된 문자열을 만들어 출력하는 코드를 작성해 보세요.\n",
        "\n",
        "# 1 ≤ str의 길이 ≤ 10\n",
        "# 1 ≤ n ≤ 5\n",
        "\n",
        "# string 5\n",
        "\n",
        "# stringstringstringstringstring"
      ],
      "metadata": {
        "id": "zf4XyFA4wX4D"
      },
      "execution_count": null,
      "outputs": []
    },
    {
      "cell_type": "code",
      "source": [
        "a, b = input().strip().split(' ')\n",
        "b = int(b)\n",
        "\n",
        "a*b"
      ],
      "metadata": {
        "colab": {
          "base_uri": "https://localhost:8080/",
          "height": 54
        },
        "id": "IUuf1tDWywt-",
        "outputId": "74ee6bbc-0168-4d35-fee1-89f3c7221d14"
      },
      "execution_count": null,
      "outputs": [
        {
          "name": "stdout",
          "output_type": "stream",
          "text": [
            "sdjsdj 10\n"
          ]
        },
        {
          "output_type": "execute_result",
          "data": {
            "text/plain": [
              "'sdjsdjsdjsdjsdjsdjsdjsdjsdjsdjsdjsdjsdjsdjsdjsdjsdjsdjsdjsdj'"
            ],
            "application/vnd.google.colaboratory.intrinsic+json": {
              "type": "string"
            }
          },
          "metadata": {},
          "execution_count": 50
        }
      ]
    },
    {
      "cell_type": "code",
      "source": [
        "# 영어 알파벳으로 이루어진 문자열 str이 주어집니다. 각 알파벳을 대문자는 소문자로 소문자는 대문자로 변환해서 출력하는 코드를 작성해 보세요."
      ],
      "metadata": {
        "id": "LQIZJuGW6pBm"
      },
      "execution_count": null,
      "outputs": []
    },
    {
      "cell_type": "code",
      "source": [
        "# a.islower()\n",
        "# a.isupper()\n",
        "a = input()\n",
        "result = ''\n",
        "for i in a:\n",
        "    if i.isupper():\n",
        "        result += i.lower()\n",
        "    else:\n",
        "        result += i.upper()\n",
        "\n",
        "print(result)\n",
        "\n"
      ],
      "metadata": {
        "colab": {
          "base_uri": "https://localhost:8080/"
        },
        "id": "tMd_m_2L6p1D",
        "outputId": "d3b120bd-d288-4a6e-f7d1-3d5f25436ef7"
      },
      "execution_count": null,
      "outputs": [
        {
          "output_type": "stream",
          "name": "stdout",
          "text": [
            "jwjwSdmnsX\n",
            "JWJWsDMNSx\n"
          ]
        }
      ]
    },
    {
      "cell_type": "code",
      "source": [
        "print(input().swapcase())"
      ],
      "metadata": {
        "colab": {
          "base_uri": "https://localhost:8080/"
        },
        "id": "nGgwjyWA_qIY",
        "outputId": "6e47eff7-c1bb-4ee6-d68a-c0ceba7f97aa"
      },
      "execution_count": null,
      "outputs": [
        {
          "output_type": "stream",
          "name": "stdout",
          "text": [
            "soosSSSdfXaa\n",
            "SOOSsssDFxAA\n"
          ]
        }
      ]
    },
    {
      "cell_type": "code",
      "source": [
        "print('!@#$%^&*(\\\\\\'\"<>?:;')"
      ],
      "metadata": {
        "colab": {
          "base_uri": "https://localhost:8080/"
        },
        "id": "8tWWkjRZA1wh",
        "outputId": "b4cfdc67-d9be-4e4b-f334-4599bb41bbdc"
      },
      "execution_count": null,
      "outputs": [
        {
          "output_type": "stream",
          "name": "stdout",
          "text": [
            "!@#$%^&*(\\'\"<>?:;\n"
          ]
        }
      ]
    },
    {
      "cell_type": "code",
      "source": [
        "# 두 개의 문자열 str1, str2가 공백으로 구분되어 입력으로 주어집니다.\n",
        "# 입출력 예와 같이 str1과 str2을 이어서 출력하는 코드를 작성해 보세요.\n",
        "\n",
        "str1, str2 = input().strip().split(' ')\n",
        "\n",
        "print(str1 + str2)"
      ],
      "metadata": {
        "colab": {
          "base_uri": "https://localhost:8080/"
        },
        "id": "W6Yj8-_13n5p",
        "outputId": "dd383d6f-cd6f-4432-ebbc-b664838fb6fb"
      },
      "execution_count": null,
      "outputs": [
        {
          "output_type": "stream",
          "name": "stdout",
          "text": [
            "aplle pen\n",
            "apllepen\n"
          ]
        }
      ]
    },
    {
      "cell_type": "code",
      "source": [
        "print(input().strip().replace(' ', ''))"
      ],
      "metadata": {
        "colab": {
          "base_uri": "https://localhost:8080/"
        },
        "id": "g8xVgG7G3s9H",
        "outputId": "89416978-67af-475e-e180-2db1a882149c"
      },
      "execution_count": null,
      "outputs": [
        {
          "output_type": "stream",
          "name": "stdout",
          "text": [
            "apple pen\n",
            "applepen\n"
          ]
        }
      ]
    },
    {
      "cell_type": "code",
      "source": [
        "# 문자열 str이 주어집니다.\n",
        "# 문자열을 시계방향으로 90도 돌려서 아래 입출력 예와 같이 출력하는 코드를 작성해 보세요.\n",
        "\n",
        "a = input()\n",
        "b = \"\"\n",
        "for i in a:\n",
        "    print(i)"
      ],
      "metadata": {
        "colab": {
          "base_uri": "https://localhost:8080/"
        },
        "id": "e6Nuun0w_LPT",
        "outputId": "fdb3a900-8794-4f6c-976f-227d5d32adfd"
      },
      "execution_count": null,
      "outputs": [
        {
          "output_type": "stream",
          "name": "stdout",
          "text": [
            "alslx\n",
            "a\n",
            "l\n",
            "s\n",
            "l\n",
            "x\n"
          ]
        }
      ]
    },
    {
      "cell_type": "code",
      "source": [
        "# 자연수 n이 입력으로 주어졌을 때 만약 n이 짝수이면 \"n is even\"을, 홀수이면 \"n is odd\"를 출력하는 코드를 작성해 보세요."
      ],
      "metadata": {
        "id": "l3mtU7pGA5bm"
      },
      "execution_count": null,
      "outputs": []
    },
    {
      "cell_type": "code",
      "source": [
        "n = int(input())\n",
        "\n",
        "if n % 2 == 0:\n",
        "    print(f'{n} is even')\n",
        "else:\n",
        "    print(f'{n} is odd')"
      ],
      "metadata": {
        "colab": {
          "base_uri": "https://localhost:8080/"
        },
        "id": "gwzZsAG3A6jf",
        "outputId": "c6471d4a-cddf-4560-ac5a-31a309332609"
      },
      "execution_count": null,
      "outputs": [
        {
          "output_type": "stream",
          "name": "stdout",
          "text": [
            "223\n",
            "223 is odd\n"
          ]
        }
      ]
    },
    {
      "cell_type": "code",
      "source": [
        "# 문자열 my_string, overwrite_string과 정수 s가 주어집니다.\n",
        "# 문자열 my_string의 인덱스 s부터 overwrite_string의 길이만큼을 문자열 overwrite_string으로 바꾼 문자열을 return 하는 solution 함수를 작성해 주세요.\n",
        "\n",
        "# \"He11oWor1d\"\t\"lloWorl\"\t2\t\"HelloWorld\"\n",
        "# \"Program29b8UYP\"\t\"merS123\"\t7\t\"ProgrammerS123\""
      ],
      "metadata": {
        "id": "YehO5cXfDnII"
      },
      "execution_count": null,
      "outputs": []
    },
    {
      "cell_type": "code",
      "source": [
        "my_string, overwrite_string = input().split()\n",
        "s = int(input())\n",
        "\n",
        "my_string[s:] = overwrite_string\n",
        "\n",
        "print(my_string)"
      ],
      "metadata": {
        "id": "_l0bRfj2DzBk"
      },
      "execution_count": null,
      "outputs": []
    },
    {
      "cell_type": "code",
      "source": [
        "my_string, overwrite_string = input().split()\n",
        "s = int(input())\n",
        "\n",
        "my_string = my_string[:s] + overwrite_string + my_string[s+len(overwrite_string):]\n",
        "print(my_string)"
      ],
      "metadata": {
        "id": "iIHJ7PAE5m8M"
      },
      "execution_count": null,
      "outputs": []
    },
    {
      "cell_type": "code",
      "source": [
        "def solution(str1, str2):\n",
        "    for i in range(0, len(str(str1))):\n",
        "        answer += str1[i] + str2[i]\n",
        "    return answer"
      ],
      "metadata": {
        "id": "vmmBYeXcOQK1"
      },
      "execution_count": null,
      "outputs": []
    },
    {
      "cell_type": "code",
      "source": [
        "# [\"a\",\"b\",\"c\"]\t\"abc\""
      ],
      "metadata": {
        "colab": {
          "base_uri": "https://localhost:8080/"
        },
        "id": "SAA5f_JjTYPr",
        "outputId": "7557fdb3-3efe-463b-ca68-7342348894ac"
      },
      "execution_count": null,
      "outputs": [
        {
          "output_type": "execute_result",
          "data": {
            "text/plain": [
              "6"
            ]
          },
          "metadata": {},
          "execution_count": 7
        }
      ]
    },
    {
      "cell_type": "code",
      "source": [
        "z = [\"a\",\"b\",\"c\"]\n",
        "\n",
        "join(z, '')"
      ],
      "metadata": {
        "id": "X6SkbyQyUMS4"
      },
      "execution_count": null,
      "outputs": []
    },
    {
      "cell_type": "code",
      "source": [
        "my_list = ['Hello', 'World', 'Python']\n",
        "result = '$abc'.join(my_list)\n",
        "print(result)"
      ],
      "metadata": {
        "colab": {
          "base_uri": "https://localhost:8080/"
        },
        "id": "fOtYgkfHVBjo",
        "outputId": "641dab4b-97aa-4d61-e95e-4c9a2f3df63e"
      },
      "execution_count": null,
      "outputs": [
        {
          "output_type": "stream",
          "name": "stdout",
          "text": [
            "Hello$abcWorld$abcPython\n"
          ]
        }
      ]
    },
    {
      "cell_type": "code",
      "source": [
        "# 문자열 my_string과 정수 k가 주어질 때, my_string을 k번 반복한 문자열을 return 하는 solution 함수를 작성해 주세요.\n",
        "\n",
        "def solution(my_string, k):\n",
        "    answer = my_string * k\n",
        "    return answer\n",
        "    \n",
        "\n",
        "solution('aaa', 3)"
      ],
      "metadata": {
        "colab": {
          "base_uri": "https://localhost:8080/",
          "height": 35
        },
        "id": "edj64Xv_w1b9",
        "outputId": "11a7f72e-5b9a-447a-d679-2d800e86f00d"
      },
      "execution_count": null,
      "outputs": [
        {
          "output_type": "execute_result",
          "data": {
            "text/plain": [
              "'aaaaaaaaa'"
            ],
            "application/vnd.google.colaboratory.intrinsic+json": {
              "type": "string"
            }
          },
          "metadata": {},
          "execution_count": 2
        }
      ]
    },
    {
      "cell_type": "code",
      "source": [
        "a = '*'\n",
        "\n",
        "for i in range(1,10,2):\n",
        "    z = a * i\n",
        "\n",
        "    print(z)"
      ],
      "metadata": {
        "colab": {
          "base_uri": "https://localhost:8080/"
        },
        "id": "7Ao_AZgBFvx4",
        "outputId": "5a91ed6e-fcdc-4720-d149-834296931df9"
      },
      "execution_count": null,
      "outputs": [
        {
          "output_type": "stream",
          "name": "stdout",
          "text": [
            "*\n",
            "***\n",
            "*****\n",
            "*******\n",
            "*********\n"
          ]
        }
      ]
    },
    {
      "cell_type": "code",
      "source": [
        "a = '*'\n",
        "\n",
        "for i in range(1, 10, 2):\n",
        "    z = a * i\n",
        "    print(z.center(9))"
      ],
      "metadata": {
        "colab": {
          "base_uri": "https://localhost:8080/"
        },
        "id": "_Y9KcmktLXxY",
        "outputId": "08144c81-3d8d-4fa8-bdfe-9abd1a684bfa"
      },
      "execution_count": null,
      "outputs": [
        {
          "output_type": "stream",
          "name": "stdout",
          "text": [
            "    *    \n",
            "   ***   \n",
            "  *****  \n",
            " ******* \n",
            "*********\n"
          ]
        }
      ]
    },
    {
      "cell_type": "code",
      "source": [
        "a = '*'\n",
        "\n",
        "for i in range(1, 10, 2):\n",
        "    z = a * i\n",
        "    print(' ' * ((9 - i) // 2) + z)\n"
      ],
      "metadata": {
        "colab": {
          "base_uri": "https://localhost:8080/"
        },
        "id": "v6Z127asM1ve",
        "outputId": "6828569f-9acc-493b-98f8-918a81a2208f"
      },
      "execution_count": null,
      "outputs": [
        {
          "output_type": "stream",
          "name": "stdout",
          "text": [
            "    *\n",
            "   ***\n",
            "  *****\n",
            " *******\n",
            "*********\n"
          ]
        }
      ]
    },
    {
      "cell_type": "code",
      "source": [
        "print('    *')\n",
        "print('   ***')\n",
        "print('  *****')\n",
        "print(' *******')\n",
        "print('*********')"
      ],
      "metadata": {
        "colab": {
          "base_uri": "https://localhost:8080/"
        },
        "id": "DUs3g6zRJDEG",
        "outputId": "e13d077f-f368-47bc-f7d1-0c6d4e942782"
      },
      "execution_count": null,
      "outputs": [
        {
          "output_type": "stream",
          "name": "stdout",
          "text": [
            "    *\n",
            "   ***\n",
            "  *****\n",
            " *******\n",
            "*********\n"
          ]
        }
      ]
    },
    {
      "cell_type": "code",
      "source": [
        "b = 0\n",
        "for i in range(1,101):\n",
        "    a = ''\n",
        "    if i % 2 == 1:\n",
        "        a += str(i)\n",
        "        print(a, end =\" \")\n",
        "        b += int(i)\n",
        "    else:\n",
        "        a += str(-i)\n",
        "        print(a, end =\" \")\n",
        "        b -= int(i)\n",
        "\n",
        "print('\\n결과 :', b )"
      ],
      "metadata": {
        "id": "Y-ebUGmYN5CL"
      },
      "execution_count": null,
      "outputs": []
    },
    {
      "cell_type": "code",
      "source": [
        "a = 0\n",
        "\n",
        "for i in range(1, 78):\n",
        "    a += ((78-i) * (i))\n",
        "\n",
        "print(a)"
      ],
      "metadata": {
        "colab": {
          "base_uri": "https://localhost:8080/"
        },
        "id": "pp_JBEFGTHPt",
        "outputId": "ffa407f0-2c91-42da-f480-80af2de8e42b"
      },
      "execution_count": null,
      "outputs": [
        {
          "output_type": "stream",
          "name": "stdout",
          "text": [
            "79079\n"
          ]
        }
      ]
    },
    {
      "cell_type": "code",
      "source": [
        "a = 1\n",
        "n = int(input(\"정수를 입력해주세요)\"))\n",
        "for i in range(0, n):\n",
        "    a += i\n",
        "    print(a, end =\" \")"
      ],
      "metadata": {
        "colab": {
          "base_uri": "https://localhost:8080/"
        },
        "id": "XA8Wf6OUWoPQ",
        "outputId": "021aac90-71a5-4b04-c6a0-e7abc4ddc406"
      },
      "execution_count": null,
      "outputs": [
        {
          "output_type": "stream",
          "name": "stdout",
          "text": [
            "정수를 입력해주세요)7\n",
            "1 2 4 7 11 16 22 "
          ]
        }
      ]
    },
    {
      "cell_type": "code",
      "source": [
        "연산 ⊕는 두 정수에 대한 연산으로 두 정수를 붙여서 쓴 값을 반환합니다. 예를 들면 다음과 같습니다.\n",
        "\n",
        "12 ⊕ 3 = 123\n",
        "3 ⊕ 12 = 312\n",
        "양의 정수 a와 b가 주어졌을 때, a ⊕ b와 b ⊕ a 중 더 큰 값을 return 하는 solution 함수를 완성해 주세요.\n",
        "\n",
        "단, a ⊕ b와 b ⊕ a가 같다면 a ⊕ b를 return 합니다."
      ],
      "metadata": {
        "id": "dPKrUxgJFTzu"
      },
      "execution_count": null,
      "outputs": []
    },
    {
      "cell_type": "code",
      "source": [
        "def solution(a, b):\n",
        "    answer1 = str(a) + str(b)\n",
        "    answer2 = str(b) + str(a)\n",
        "    if int(answer1) > int(answer2):\n",
        "        return int(answer1)\n",
        "    else:\n",
        "        return int(answer2)\n",
        "\n",
        "solution(2234, 54)"
      ],
      "metadata": {
        "colab": {
          "base_uri": "https://localhost:8080/"
        },
        "id": "csmeV3id5qtf",
        "outputId": "7eb166d6-dd98-4668-8eda-da2abbaacaeb"
      },
      "execution_count": null,
      "outputs": [
        {
          "output_type": "execute_result",
          "data": {
            "text/plain": [
              "542234"
            ]
          },
          "metadata": {},
          "execution_count": 10
        }
      ]
    },
    {
      "cell_type": "code",
      "source": [
        "a = 2\n",
        "b = 3\n",
        "def solution(a, b):\n",
        "    return int(max(f\"{a}{b}\", f\"{b}{a}\"))\n",
        "\n"
      ],
      "metadata": {
        "id": "_cPuIWJG8nVr"
      },
      "execution_count": null,
      "outputs": []
    },
    {
      "cell_type": "code",
      "source": [
        "def solution(ineq, eq, n, m):\n",
        "    answer = 0\n",
        "    if eq == \"=\":\n",
        "        elif boolen(n, ineq, eq, m) == 1:\n",
        "            return 1\n",
        "    elif boolen(m, ineq, m) == 1:\n",
        "        return 1\n",
        "    else:\n",
        "        return 0\n",
        "            \n",
        "            \n",
        "        return answer\n",
        "\n",
        "solution(\"<\", \"=\", 10, 20)"
      ],
      "metadata": {
        "id": "jyedPMtQ8o0L",
        "colab": {
          "base_uri": "https://localhost:8080/",
          "height": 138
        },
        "outputId": "c4cb5540-9934-4fb0-eaf3-4c9bfdfcd626"
      },
      "execution_count": null,
      "outputs": [
        {
          "output_type": "error",
          "ename": "SyntaxError",
          "evalue": "ignored",
          "traceback": [
            "\u001b[0;36m  File \u001b[0;32m\"<ipython-input-6-ba61b55f8e26>\"\u001b[0;36m, line \u001b[0;32m4\u001b[0m\n\u001b[0;31m    elif boolen(n, ineq, eq, m) == 1:\u001b[0m\n\u001b[0m    ^\u001b[0m\n\u001b[0;31mSyntaxError\u001b[0m\u001b[0;31m:\u001b[0m invalid syntax\n"
          ]
        }
      ]
    },
    {
      "cell_type": "code",
      "source": [
        "def solution(ineq, eq, n, m):\n",
        "    answer = 0\n",
        "    if eq == \"=\":\n",
        "        if boolen(n, ineq, eq, m) == 1:\n",
        "            return 1\n",
        "    elif boolen(m, ineq, m) == 1:\n",
        "        return 1\n",
        "    else:\n",
        "        return 0\n",
        "\n",
        "solution(\"<\", \"=\", 10, 20)"
      ],
      "metadata": {
        "id": "rMyJizQDdqGP"
      },
      "execution_count": null,
      "outputs": []
    },
    {
      "cell_type": "code",
      "source": [
        "def solution(ineq, eq, n, m):\n",
        "    if ineq == \"<\":\n",
        "        if eq == \"=\":\n",
        "            return int(n <= m)\n",
        "        elif eq == \"!\":\n",
        "            return int(n < m)\n",
        "    elif ineq == \">\":\n",
        "        if eq == \"=\":\n",
        "            return int(n >= m)\n",
        "        elif eq == \"!\":\n",
        "            return int(n > m)\n",
        "    return 0\n"
      ],
      "metadata": {
        "id": "E1M0Hmd6gmzH"
      },
      "execution_count": null,
      "outputs": []
    },
    {
      "cell_type": "code",
      "source": [
        "def solution(a, b, flag):\n",
        "    \n",
        "    if flag == \"true\":\n",
        "        return a + b\n",
        "    else:\n",
        "        return a - b\n",
        "\n",
        "solution(-4, 7, 'true')"
      ],
      "metadata": {
        "colab": {
          "base_uri": "https://localhost:8080/"
        },
        "id": "bYpSgaUIei6h",
        "outputId": "76c5cc4b-89a4-4449-b1e7-2979fa6223a6"
      },
      "execution_count": null,
      "outputs": [
        {
          "output_type": "execute_result",
          "data": {
            "text/plain": [
              "3"
            ]
          },
          "metadata": {},
          "execution_count": 9
        }
      ]
    },
    {
      "cell_type": "code",
      "source": [
        "S = int(input(\"시험점수를 입력해주세요\"))\n",
        "if 100 >= S >= 90:\n",
        "    print('A')\n",
        "elif 80 <= S < 90:\n",
        "    print('B')\n",
        "elif 70 <= S < 80:\n",
        "    print('C')\n",
        "elif 60 <= S < 70:\n",
        "    print('D')\n",
        "else:\n",
        "    print('F')"
      ],
      "metadata": {
        "id": "6tLtPjQDs6Kp"
      },
      "execution_count": null,
      "outputs": []
    },
    {
      "cell_type": "code",
      "source": [
        "# 1부터 6까지 숫자가 적힌 주사위가 세 개 있습니다. 세 주사위를 굴렸을 때 나온 숫자를 각각 a, b, c라고 했을 때 얻는 점수는 다음과 같습니다.\n",
        "\n",
        "# 세 숫자가 모두 다르다면 a + b + c 점을 얻습니다.\n",
        "# 세 숫자 중 어느 두 숫자는 같고 나머지 다른 숫자는 다르다면 (a + b + c) × (a2 + b2 + c2 )점을 얻습니다.\n",
        "# 세 숫자가 모두 같다면 (a + b + c) × (a2 + b2 + c2 ) × (a3 + b3 + c3 )점을 얻습니다.\n",
        "# 세 정수 a, b, c가 매개변수로 주어질 때, 얻는 점수를 return 하는 solution 함수를 작성해 주세요."
      ],
      "metadata": {
        "id": "Q_yrYDOL9iSU"
      },
      "execution_count": null,
      "outputs": []
    },
    {
      "cell_type": "code",
      "source": [
        "a, b, c = input().split()\n",
        "\n",
        "if a != b and b != c:\n",
        "    return a+b+c\n",
        "elif a == b or b == c:\n",
        "    return (a + b + c) * (a*2 + b*2 + c*2)\n",
        "else:\n",
        "    return (a + b + c) * (a*2 + b*2 + c*2) * (a*3 + b*3 + c*3)"
      ],
      "metadata": {
        "id": "-o7AhjPe9nqZ"
      },
      "execution_count": null,
      "outputs": []
    },
    {
      "cell_type": "code",
      "source": [
        "a = 4\n",
        "b = 4\n",
        "c = 4\n",
        "\n",
        "answer = (a + b + c) * (a*a + b*b + c*c) * (a*a*a + b*b*b + c*c*c)\n",
        "print(answer)"
      ],
      "metadata": {
        "colab": {
          "base_uri": "https://localhost:8080/"
        },
        "id": "CLFX33DzAjSs",
        "outputId": "f6b0ed5b-6bcb-4a71-dc13-2d49329eed90"
      },
      "execution_count": null,
      "outputs": [
        {
          "output_type": "stream",
          "name": "stdout",
          "text": [
            "110592\n"
          ]
        }
      ]
    },
    {
      "cell_type": "code",
      "source": [
        "def solution(a, b, c):\n",
        "    answer = 0\n",
        "    \n",
        "    if a != b and b != c:\n",
        "        answer = a+b+c\n",
        "    elif a == b or b == c:\n",
        "        answer = (a + b + c) * (a*a + b*b + c*c)\n",
        "    elif a == b and b == c:\n",
        "        answer = (a + b + c) * (a*a + b*b + c*c) * (a*a*a + b*b*b + c*c*c)\n",
        "        \n",
        "    return answer\n",
        "\n",
        "solution(4, 4, 4)\n",
        "print(answer)"
      ],
      "metadata": {
        "colab": {
          "base_uri": "https://localhost:8080/"
        },
        "id": "zXVeJkYpAles",
        "outputId": "aca8d0be-dcbc-43c5-9486-a5e64e1030d9"
      },
      "execution_count": null,
      "outputs": [
        {
          "output_type": "stream",
          "name": "stdout",
          "text": [
            "110592\n"
          ]
        }
      ]
    },
    {
      "cell_type": "code",
      "source": [
        "import random                # 파이썬 내장 모듈 임포트\n",
        " \n",
        "a = random.randint(1,100)   # 1부터 100까지의 정수 중 랜덤으로 하나 뽑는다.\n",
        "b = random.randint(1,100)\n",
        "c = random.randint(1,100)\n",
        "d = random.randint(1,100)\n",
        "e = random.randint(1,100)\n",
        "f = random.randint(1,100)\n",
        "g = random.randint(1,100)\n",
        "h = random.randint(1,100)\n",
        "\n",
        "z = [a, b, c, d, e, f, g, h]\n",
        "\n",
        "print(f'가장 큰 값 : {max(z)}\\n가장 작은 값 : {min(z)}')"
      ],
      "metadata": {
        "colab": {
          "base_uri": "https://localhost:8080/"
        },
        "id": "TmDsSQ0hqZwa",
        "outputId": "bedd5aa9-18df-47ae-9a0d-63f8a086c230"
      },
      "execution_count": null,
      "outputs": [
        {
          "output_type": "stream",
          "name": "stdout",
          "text": [
            "가장 큰 값 : 77\n",
            "가장 작은 값 : 8\n"
          ]
        }
      ]
    },
    {
      "cell_type": "code",
      "source": [
        "import random                # 파이썬 내장 모듈 임포트\n",
        "\n",
        "z = list(range(0,8))\n",
        "\n",
        "for i in range(0,7):\n",
        "    z[i] = random.randint(1,100)\n",
        "\n",
        "print(z)\n",
        "print(f'가장 큰 값 : {max(z)}\\n가장 작은 값 : {min(z)}')"
      ],
      "metadata": {
        "colab": {
          "base_uri": "https://localhost:8080/"
        },
        "id": "Xhgs8QV-t9Gx",
        "outputId": "9c7b267b-fb36-459c-b472-b480922b9a2b"
      },
      "execution_count": null,
      "outputs": [
        {
          "output_type": "stream",
          "name": "stdout",
          "text": [
            "[61, 18, 82, 5, 3, 84, 21, 7]\n",
            "가장 큰 값 : 84\n",
            "가장 작은 값 : 3\n"
          ]
        }
      ]
    },
    {
      "cell_type": "code",
      "source": [
        "b = ''\n",
        "\n",
        "for i in range(1,11):\n",
        "    a = int(input(f'{i}번째 정수 입력 : '))\n",
        "    if a % 3 == 0:\n",
        "        b += str(a)\n",
        "\n",
        "print(f'3의 배수 : {b}')"
      ],
      "metadata": {
        "id": "hxSPjNhXwH0I"
      },
      "execution_count": null,
      "outputs": []
    },
    {
      "cell_type": "code",
      "source": [
        "b = []\n",
        "\n",
        "for i in range(1, 11):\n",
        "    a = int(input(f'{i}번째 정수 입력: '))\n",
        "    if a % 3 == 0:\n",
        "        b.append(str(a))\n",
        "\n",
        "result = ', '.join(b)\n",
        "print(f'3의 배수: {result}')"
      ],
      "metadata": {
        "id": "zVBN1W331PWA"
      },
      "execution_count": null,
      "outputs": []
    },
    {
      "cell_type": "code",
      "source": [
        "import random                # 파이썬 내장 모듈 임포트\n",
        "\n",
        "z = list(range(0,6))\n",
        "\n",
        "for i in range(0,6):\n",
        "    z[i] = random.randint(1,46)\n",
        "\n",
        "if len(set(a)) == 6:\n",
        "    print(z)"
      ],
      "metadata": {
        "id": "6svEaVOt4ePy"
      },
      "execution_count": null,
      "outputs": []
    },
    {
      "cell_type": "code",
      "source": [
        "import random                # 파이썬 내장 모듈 임포트\n",
        "\n",
        "z = list(range(0,6))\n",
        "\n",
        "for i in range(0,6):\n",
        "    z[i] = random.randint(1,46)\n",
        "    print(f'행운의숫자 : {z[i]}')"
      ],
      "metadata": {
        "colab": {
          "base_uri": "https://localhost:8080/"
        },
        "id": "wK-ufpZy53ia",
        "outputId": "6cb2bc0e-0fca-4667-f009-c95bd48b0ffb"
      },
      "execution_count": null,
      "outputs": [
        {
          "output_type": "stream",
          "name": "stdout",
          "text": [
            "행운의숫자 : 8\n",
            "행운의숫자 : 32\n",
            "행운의숫자 : 37\n",
            "행운의숫자 : 26\n",
            "행운의숫자 : 41\n",
            "행운의숫자 : 15\n"
          ]
        }
      ]
    },
    {
      "cell_type": "code",
      "source": [
        "import random\n",
        "\n",
        "z = []\n",
        "while len(z) < 6:\n",
        "    num = random.randint(1, 46)\n",
        "    if num not in z:  # 중복 체크\n",
        "        z.append(num)\n",
        "        print(f'행운의 숫자: {num}')"
      ],
      "metadata": {
        "id": "RFUM1isK74_h"
      },
      "execution_count": null,
      "outputs": []
    },
    {
      "cell_type": "code",
      "source": [
        "import random\n",
        "\n",
        "z = []\n",
        "\n",
        "while len(z) < 6:\n",
        "    num = random.randint(1, 46)\n",
        "    if num not in z:\n",
        "        z.append(num)\n",
        "\n",
        "for num in z:\n",
        "    print(f'행운의 숫자: {num}')"
      ],
      "metadata": {
        "id": "mNaMa0VK75mD"
      },
      "execution_count": null,
      "outputs": []
    },
    {
      "cell_type": "code",
      "source": [
        "import random\n",
        "\n",
        "z = set()\n",
        "\n",
        "while len(z) < 6:\n",
        "    z.add(random.randint(1, 46))\n",
        "\n",
        "for num in z:\n",
        "    print(f'행운의 숫자: {num}')\n"
      ],
      "metadata": {
        "id": "7DhgBMJK772Q"
      },
      "execution_count": null,
      "outputs": []
    },
    {
      "cell_type": "code",
      "source": [
        "import random\n",
        "\n",
        "b = []\n",
        "\n",
        "for i in range(0,5):\n",
        "    a = random.randint(1, 10)\n",
        "    b.append(a)\n",
        "    print(f'{i}번째 별의 수 : {a}')\n",
        "\n",
        "for i in range(0,5):\n",
        "    print(b[i],':',b[i] * '*')"
      ],
      "metadata": {
        "colab": {
          "base_uri": "https://localhost:8080/"
        },
        "id": "MCecPszx-aSD",
        "outputId": "90160b6e-bf8f-4b84-8b57-b894c485f5d0"
      },
      "execution_count": null,
      "outputs": [
        {
          "output_type": "stream",
          "name": "stdout",
          "text": [
            "0번째 별의 수 : 4\n",
            "1번째 별의 수 : 9\n",
            "2번째 별의 수 : 4\n",
            "3번째 별의 수 : 6\n",
            "4번째 별의 수 : 8\n",
            "4 : ****\n",
            "9 : *********\n",
            "4 : ****\n",
            "6 : ******\n",
            "8 : ********\n"
          ]
        }
      ]
    },
    {
      "cell_type": "code",
      "source": [
        "\"abc1abc1abc\"\n",
        "i\tcode[i]\tmode\tret\n",
        "0\t\"a\"\t    0\t    \"a\"\n",
        "1\t\"b\"\t    0\t    \"a\"\n",
        "2\t\"c\"\t    0\t    \"ac\"\n",
        "3\t\"1\"\t    1\t    \"ac\"\n",
        "4\t\"a\"\t    1\t    \"ac\"\n",
        "5\t\"b\"\t    1\t    \"acb\"\n",
        "6\t\"c\"\t    1\t    \"acb\"\n",
        "7\t\"1\"\t    0\t    \"acb\"\n",
        "8\t\"a\"\t    0\t    \"acba\"\n",
        "9\t\"b\"\t    0\t    \"acba\"\n",
        "10\t\"c\" \t0\t    \"acbac\""
      ],
      "metadata": {
        "id": "0vPuictW2zic"
      },
      "execution_count": null,
      "outputs": []
    },
    {
      "cell_type": "code",
      "source": [
        "a = [92, 32, 52, 9, 81, 2, 68]\n",
        "b = []\n",
        "c = 0\n",
        "d = 0\n",
        "\n",
        "for i in range(1,7):\n",
        "    if a[i-1] > a[i]:\n",
        "        b[i] = a[i-1]-a[i]\n",
        "    else:\n",
        "        b[i] = a[i]-a[i-1]\n",
        "\n",
        "print(b)"
      ],
      "metadata": {
        "id": "SmdwP0wBEXE3"
      },
      "execution_count": null,
      "outputs": []
    },
    {
      "cell_type": "code",
      "source": [
        "a = int(input(\"현재몸무게\"))\n",
        "b = int(input(\"목표몸무게\"))\n",
        "c = int(input(\"1주차 감량 몸무게\"))\n",
        "d = int(input(\"2주차 감량 몸무게\"))\n",
        "e = int(input(\"3주차 감량 몸무게\"))\n",
        "f = int(input(\"4주차 감량 몸무게\"))\n",
        "g = int(input(\"5주차 감량 몸무게\"))\n",
        "h = int(input(\"6주차 감량 몸무게\"))\n",
        "i = int(input(\"7주차 감량 몸무게\"))\n",
        "j = a\n",
        "\n",
        "for i in [c, d, e, f, g, h, i]:\n",
        "    j = j-i\n",
        "    \n",
        "    if b > j:\n",
        "        print( j,\"kg달성!! 축하합니다!\")"
      ],
      "metadata": {
        "id": "JXjoA5OcL1EQ"
      },
      "execution_count": null,
      "outputs": []
    },
    {
      "cell_type": "code",
      "source": [
        "a = 5000\n",
        "b = 7500\n",
        "money = 0\n",
        "\n",
        "z = int(input(\"일한시간을 입력하세요\"))\n",
        "\n",
        "if z > 8:\n",
        "    money = (8*5000) + ((z-8)*(7500))\n",
        "else:\n",
        "    money = z * 5000\n",
        "\n",
        "print(\"총 임금은\", money,\"원 입니다.\")"
      ],
      "metadata": {
        "colab": {
          "base_uri": "https://localhost:8080/"
        },
        "id": "_zRrfHK9PGqO",
        "outputId": "91e2f7c7-3b63-4fe7-cc0d-f1ad9cf25ecc"
      },
      "execution_count": null,
      "outputs": [
        {
          "output_type": "stream",
          "name": "stdout",
          "text": [
            "일한시간을 입력하세요10\n",
            "총 임금은 55000 원 입니다.\n"
          ]
        }
      ]
    },
    {
      "cell_type": "code",
      "source": [
        "for i in range(1,101):\n",
        "    a = 0\n",
        "    b = 0\n",
        "    c = 0\n",
        "\n",
        "    if i % 2 == 1:\n",
        "        a += i\n",
        "        c += i\n",
        "        print(i, end=\" \")\n",
        "    else:\n",
        "        b -= i\n",
        "        c += b\n",
        "        print(-i, end = \" \")\n",
        "\n",
        "print(\\n, \"결과 :\", c)"
      ],
      "metadata": {
        "colab": {
          "base_uri": "https://localhost:8080/"
        },
        "id": "sbIb7Nq6QDMk",
        "outputId": "d56ea9d4-7954-4577-b34b-a1ae6a80c0cb"
      },
      "execution_count": null,
      "outputs": [
        {
          "output_type": "stream",
          "name": "stdout",
          "text": [
            "1 -2 3 -4 5 -6 7 -8 9 -10 11 -12 13 -14 15 -16 17 -18 19 -20 21 -22 23 -24 25 -26 27 -28 29 -30 31 -32 33 -34 35 -36 37 -38 39 -40 41 -42 43 -44 45 -46 47 -48 49 -50 51 -52 53 -54 55 -56 57 -58 59 -60 61 -62 63 -64 65 -66 67 -68 69 -70 71 -72 73 -74 75 -76 77 -78 79 -80 81 -82 83 -84 85 -86 87 -88 89 -90 91 -92 93 -94 95 -96 97 -98 99 -100 \n",
            "결과: -50\n"
          ]
        }
      ]
    },
    {
      "cell_type": "code",
      "source": [
        "c = 0\n",
        "\n",
        "for i in range(1, 101):\n",
        "    if i % 2 == 1:\n",
        "        c += i\n",
        "        print(i, end=\" \")\n",
        "    else:\n",
        "        c -= i\n",
        "        print(-i, end=\" \")\n",
        "\n",
        "print(\"\\n결과:\", c)\n"
      ],
      "metadata": {
        "id": "anCyuheaTaho"
      },
      "execution_count": null,
      "outputs": []
    },
    {
      "cell_type": "code",
      "source": [
        "result = 0\n",
        "\n",
        "for i in range(1, 101):\n",
        "    result += i * (-1) ** (i % 2)\n",
        "    print(i * (-1) ** (i % 2), end=\" \")\n",
        "\n",
        "print(\"\\n결과:\", result)\n"
      ],
      "metadata": {
        "id": "mIE8hV09WZNL"
      },
      "execution_count": null,
      "outputs": []
    },
    {
      "cell_type": "code",
      "source": [
        "numbers = [i * (-1) ** (i % 2) for i in range(1, 101)]\n",
        "result = sum(numbers)\n",
        "\n",
        "print(' '.join(map(str, numbers)))\n",
        "print(\"결과:\", result)\n"
      ],
      "metadata": {
        "id": "NbT0JsseYKcY"
      },
      "execution_count": null,
      "outputs": []
    },
    {
      "cell_type": "code",
      "source": [
        "total_money = int(input(\"총 금액을 입력\"))\n",
        "z = 0\n",
        "\n",
        "if total_money > 10000:\n",
        "    a = total_money // 10000\n",
        "    z = total_money % 10000\n",
        "    \n",
        "elif z > 5000:\n",
        "    b = z // 5000\n",
        "    z = z % 5000\n",
        "    \n",
        "elif z > 1000:\n",
        "    c = z // 1000\n",
        "    z = z % 1000\n",
        "    \n",
        "elif z > 500:\n",
        "    d = z // 500\n",
        "    z = z % 500\n",
        "    \n",
        "elif z > 100:\n",
        "    e = z // 100\n",
        "\n",
        "print(f'잔돈 : {total_money}')\n",
        "print(f'10000원 : {a}개 ')\n",
        "print(f'5000원 : {b}개 ')\n",
        "print(f'1000원 : {c}개 ')\n",
        "print(f'500원 : {d}개 ')\n",
        "print(f'100원 : {e}개 ')"
      ],
      "metadata": {
        "colab": {
          "base_uri": "https://localhost:8080/"
        },
        "id": "mgzY0ZIYUF6C",
        "outputId": "1d1cb48b-63d3-464d-a501-f27f8e1b0a0d"
      },
      "execution_count": null,
      "outputs": [
        {
          "output_type": "stream",
          "name": "stdout",
          "text": [
            "총 금액을 입력25400\n",
            "잔돈 : 25400\n",
            "10000원 : 2개 \n",
            "5000원 : -2550개 \n",
            "1000원 : -50개 \n",
            "500원 : 5개 \n",
            "100원 : 3개 \n"
          ]
        }
      ]
    },
    {
      "cell_type": "code",
      "source": [
        "total_money = int(input(\"총 금액을 입력: \"))\n",
        "z = total_money\n",
        "\n",
        "if z > 10000:\n",
        "    a = z // 10000\n",
        "    z = z % 10000\n",
        "else:\n",
        "    a = 0\n",
        "\n",
        "if z > 5000:\n",
        "    b = z // 5000\n",
        "    z = z % 5000\n",
        "else:\n",
        "    b = 0\n",
        "\n",
        "if z > 1000:\n",
        "    c = z // 1000\n",
        "    z = z % 1000\n",
        "else:\n",
        "    c = 0\n",
        "\n",
        "if z > 500:\n",
        "    d = z // 500\n",
        "    z = z % 500\n",
        "else:\n",
        "    d = 0\n",
        "\n",
        "if z > 100:\n",
        "    e = z // 100\n",
        "else:\n",
        "    e = 0\n",
        "\n",
        "print(f'잔돈 : {total_money}')\n",
        "print(f'10000원 : {a}개')\n",
        "print(f'5000원 : {b}개')\n",
        "print(f'1000원 : {c}개')\n",
        "print(f'500원 : {d}개')\n",
        "print(f'100원 : {e}개')\n"
      ],
      "metadata": {
        "colab": {
          "base_uri": "https://localhost:8080/"
        },
        "id": "O5IqdV5RYXeh",
        "outputId": "e4eda9f4-0bc6-4bba-9950-e4de7387f103"
      },
      "execution_count": null,
      "outputs": [
        {
          "output_type": "stream",
          "name": "stdout",
          "text": [
            "총 금액을 입력: 25400\n",
            "잔돈 : 25400\n",
            "10000원 : 2개\n",
            "5000원 : 1개\n",
            "1000원 : 0개\n",
            "500원 : 0개\n",
            "100원 : 4개\n"
          ]
        }
      ]
    },
    {
      "cell_type": "code",
      "source": [
        "total_money = int(input(\"총 금액을 입력: \"))\n",
        "\n",
        "coins = [10000, 5000, 1000, 500, 100]\n",
        "counts = [total_money // coin for coin in coins]\n",
        "\n",
        "print(f'잔돈 : {total_money}')\n",
        "for coin, count in zip(coins, counts):\n",
        "    print(f'{coin}원 : {count}개')\n"
      ],
      "metadata": {
        "id": "63CggorAZAQi"
      },
      "execution_count": null,
      "outputs": []
    },
    {
      "cell_type": "code",
      "source": [
        "count = input(\"행 개수\")\n",
        "\n",
        "for i in range(1,int(count)+1):\n",
        "    print(\"*\" * i)"
      ],
      "metadata": {
        "id": "YBb182muajpt"
      },
      "execution_count": null,
      "outputs": []
    },
    {
      "cell_type": "code",
      "source": [
        "result = 0\n",
        "\n",
        "for i in range(1, 78):\n",
        "    result += ((78-i)*i)\n",
        "\n",
        "print(result)"
      ],
      "metadata": {
        "colab": {
          "base_uri": "https://localhost:8080/"
        },
        "id": "kM1mMeovb1kG",
        "outputId": "8bd14f33-95fd-4864-f7f8-e20fda6cfe2d"
      },
      "execution_count": null,
      "outputs": [
        {
          "output_type": "stream",
          "name": "stdout",
          "text": [
            "79079\n"
          ]
        }
      ]
    },
    {
      "cell_type": "code",
      "source": [
        "count = input(\"행 개수\")\n",
        "\n",
        "for i in range(1,int(count)+1):\n",
        "    print(\"*\" * (int(count)-i))"
      ],
      "metadata": {
        "id": "wDgiQRibepA9"
      },
      "execution_count": null,
      "outputs": []
    },
    {
      "cell_type": "code",
      "source": [
        "import math\n",
        "\n",
        "count = int(input(\"숫자 입력 : \"))\n",
        "\n",
        "z = round(count,-1)\n",
        "print(z)"
      ],
      "metadata": {
        "colab": {
          "base_uri": "https://localhost:8080/"
        },
        "id": "E3oIL_EuhEtx",
        "outputId": "a631eed2-a06c-4c57-8c65-3b0d4846fd13"
      },
      "execution_count": null,
      "outputs": [
        {
          "output_type": "stream",
          "name": "stdout",
          "text": [
            "숫자 입력128\n",
            "130\n"
          ]
        }
      ]
    },
    {
      "cell_type": "code",
      "source": [
        "import random\n",
        "\n",
        "list = []\n",
        "for i in range(8):"
      ],
      "metadata": {
        "id": "cdvKwXaPh1Kl"
      },
      "execution_count": null,
      "outputs": []
    },
    {
      "cell_type": "code",
      "source": [
        "code = \"abc1abc1abc\"\n",
        "mode = 0\n",
        "list = []\n",
        "\n",
        "for  i in range(0, len(code)):\n",
        "    if mode == 0 and i % 2 == 0:\n",
        "        list.append(code[i])\n",
        "    elif mode == 0 and i % 2 == 1:\n",
        "        pass\n",
        "    elif mode == 0 and code[i] == 1:\n",
        "        mode = 1\n",
        "    elif mode == 1 and i % 2 == 1:\n",
        "        list.append(code[i])\n",
        "    elif mode == 1 and i % 2 == 0:\n",
        "        pass\n",
        "    elif mode == 1 and code[i] == 1:\n",
        "        mode = 0\n",
        "\n",
        "print(list)"
      ],
      "metadata": {
        "colab": {
          "base_uri": "https://localhost:8080/",
          "height": 54
        },
        "id": "FtBD8WbgqWEN",
        "outputId": "21628a77-dec6-471f-ce96-e1acf5f7ca95"
      },
      "execution_count": null,
      "outputs": [
        {
          "output_type": "stream",
          "name": "stdout",
          "text": [
            "['a', 'c', 'a', 'c', 'a', 'c']\n"
          ]
        },
        {
          "output_type": "execute_result",
          "data": {
            "text/plain": [
              "'a'"
            ],
            "application/vnd.google.colaboratory.intrinsic+json": {
              "type": "string"
            }
          },
          "metadata": {},
          "execution_count": 113
        }
      ]
    },
    {
      "cell_type": "markdown",
      "source": [
        "# 뭐야 lv0 아래단계있었눙"
      ],
      "metadata": {
        "id": "bl8o3-yz5kXA"
      }
    },
    {
      "cell_type": "code",
      "source": [
        "def solution(num1, num2):\n",
        "    answer = num1 // num2\n",
        "    return answer"
      ],
      "metadata": {
        "id": "VR08L93y2qDX"
      },
      "execution_count": null,
      "outputs": []
    },
    {
      "cell_type": "code",
      "source": [
        "def solution(num1, num2):\n",
        "    if num1 == num2:\n",
        "        answer = 1\n",
        "    else:\n",
        "        answer = -1\n",
        "    return answer"
      ],
      "metadata": {
        "id": "dod39Byk5j38"
      },
      "execution_count": null,
      "outputs": []
    },
    {
      "cell_type": "markdown",
      "source": [
        "# 첫 번째 분수의 분자와 분모를 뜻하는 numer1, denom1, 두 번째 분수의 분자와 분모를 뜻하는 numer2, denom2가 매개변수로 주어집니다. 두 분수를 더한 값을 기약 분수로 나타냈을 때 분자와 분모를 순서대로 담은 배열을 return 하도록 solution 함수를 완성해보세요."
      ],
      "metadata": {
        "id": "BgV3ODknxEet"
      }
    },
    {
      "cell_type": "code",
      "source": [
        "def solution(numer1, denom1, numer2, denom2):\n",
        "    if denom1 == denom2:\n",
        "        numer = numer1 + numer2\n",
        "        return(numer, denom1)\n",
        "    else:\n",
        "        denom = denom1 * denom2\n",
        "        numer = (numer1*denom2) + (numer2*denom1)\n",
        "        if denom % denom1 == 0 and denom % denom2 == 0:\n",
        "            denom = denom / denom1\n",
        "            numer = numer / denom1\n",
        "            return(numer, denom)\n"
      ],
      "metadata": {
        "id": "9ZZx22WWxHPR"
      },
      "execution_count": null,
      "outputs": []
    },
    {
      "cell_type": "code",
      "source": [
        "def solution(denum1, num1, denum2, num2):\n",
        "    answer = []    \n",
        "    a=0\n",
        "    b=0\n",
        "    a=denum1*num2+denum2*num1\n",
        "    b=num2*num1\n",
        "    for j in range(1,1000):\n",
        "        for i in range(1,1000):\n",
        "            if (a%i)==0 and (b%i)==0:\n",
        "                a=a/i\n",
        "                b=b/i\n",
        "        answer=[a,b]\n",
        "    return answer"
      ],
      "metadata": {
        "id": "xHnlzK9r1xXC"
      },
      "execution_count": null,
      "outputs": []
    },
    {
      "cell_type": "code",
      "source": [
        "from fractions import Fraction\n",
        "\n",
        "def solution(denum1, num1, denum2, num2):\n",
        "    answer = Fraction(denum1, num1) + Fraction(denum2, num2)\n",
        "    return [answer.numerator, answer.denominator]"
      ],
      "metadata": {
        "id": "CPfniSax1xvB"
      },
      "execution_count": null,
      "outputs": []
    }
  ]
}