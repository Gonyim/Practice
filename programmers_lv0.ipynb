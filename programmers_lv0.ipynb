{
  "nbformat": 4,
  "nbformat_minor": 0,
  "metadata": {
    "colab": {
      "provenance": [],
      "authorship_tag": "ABX9TyPvqwWZ/7tMYSDfY218Qf2J",
      "include_colab_link": true
    },
    "kernelspec": {
      "name": "python3",
      "display_name": "Python 3"
    },
    "language_info": {
      "name": "python"
    }
  },
  "cells": [
    {
      "cell_type": "markdown",
      "metadata": {
        "id": "view-in-github",
        "colab_type": "text"
      },
      "source": [
        "<a href=\"https://colab.research.google.com/github/Gonyim/Practice/blob/main/programmers_lv0.ipynb\" target=\"_parent\"><img src=\"https://colab.research.google.com/assets/colab-badge.svg\" alt=\"Open In Colab\"/></a>"
      ]
    },
    {
      "cell_type": "code",
      "execution_count": null,
      "metadata": {
        "id": "LBDreLBhmCsV"
      },
      "outputs": [],
      "source": [
        "# 문제 설명\n",
        "# 문자열 s를 숫자로 변환한 결과를 반환하는 함수, solution을 완성하세요.\n",
        "\n",
        "# 제한 조건\n",
        "# s의 길이는 1 이상 5이하입니다.\n",
        "# s의 맨앞에는 부호(+, -)가 올 수 있습니다.\n",
        "# s는 부호와 숫자로만 이루어져있습니다.\n",
        "# s는 \"0\"으로 시작하지 않습니다.\n",
        "# 입출력 예\n",
        "# 예를들어 str이 \"1234\"이면 1234를 반환하고, \"-1234\"이면 -1234를 반환하면 됩니다.\n",
        "# str은 부호(+,-)와 숫자로만 구성되어 있고, 잘못된 값이 입력되는 경우는 없습니다."
      ]
    },
    {
      "cell_type": "code",
      "source": [
        "def solution():\n",
        "    s = int(s)\n",
        "    return s\n",
        "\n"
      ],
      "metadata": {
        "colab": {
          "base_uri": "https://localhost:8080/"
        },
        "id": "XqQ4DQdsmOmU",
        "outputId": "f492dd1a-d090-4654-cbc2-8600e5347692"
      },
      "execution_count": null,
      "outputs": [
        {
          "output_type": "stream",
          "name": "stdout",
          "text": [
            "1234\n"
          ]
        }
      ]
    },
    {
      "cell_type": "code",
      "source": [
        "# 자연수 N이 주어지면, N의 각 자릿수의 합을 구해서 return 하는 solution 함수를 만들어 주세요.\n",
        "# 예를들어 N = 123이면 1 + 2 + 3 = 6을 return 하면 됩니다."
      ],
      "metadata": {
        "id": "KuGi52FPzimM"
      },
      "execution_count": null,
      "outputs": []
    },
    {
      "cell_type": "code",
      "source": [
        "n = 123\n",
        "m = str(n)\n",
        "# str(n)\n",
        "# spilt()\n",
        "\n",
        "# b = 'dsffsdfds'\n",
        "\n",
        "for i in len(m):\n",
        "    sum += int(m[i])\n",
        "\n",
        "\n",
        "sum = list(m[0]) + list(m[1]) + list(m[2])\n",
        "int(m[0]) + int(m[1]) + int(m[2])\n",
        "# n.split(',')"
      ],
      "metadata": {
        "colab": {
          "base_uri": "https://localhost:8080/"
        },
        "id": "vnMowtrUzj-b",
        "outputId": "b456cbb6-4548-4698-bfbc-ab0ceee7f1a1"
      },
      "execution_count": null,
      "outputs": [
        {
          "output_type": "execute_result",
          "data": {
            "text/plain": [
              "3"
            ]
          },
          "metadata": {},
          "execution_count": 28
        }
      ]
    },
    {
      "cell_type": "code",
      "source": [
        "n = 124223\n",
        "total_sum = 0 \n",
        "def solution():\n",
        "    \n",
        "    for i in range(0, len(str(n))):\n",
        "        total_sum += int(str(n)[i])\n",
        "    return total_sum\n",
        "\n",
        "result = solution()\n",
        "print(result)"
      ],
      "metadata": {
        "colab": {
          "base_uri": "https://localhost:8080/"
        },
        "id": "gN_IpgrBob1j",
        "outputId": "9f5319e0-aa06-461e-a13d-f677c42227b8"
      },
      "execution_count": null,
      "outputs": [
        {
          "output_type": "stream",
          "name": "stdout",
          "text": [
            "14\n"
          ]
        }
      ]
    },
    {
      "cell_type": "code",
      "source": [
        "n = 124223\n",
        "\n",
        "def solution():\n",
        "    total = 0\n",
        "    for i in range(0, len(str(n))):\n",
        "        total += int(str(n)[i])\n",
        "    \n",
        "    return total\n",
        "\n",
        "result = solution()\n",
        "print(result)  # 출력: 14\n"
      ],
      "metadata": {
        "colab": {
          "base_uri": "https://localhost:8080/"
        },
        "id": "cl1IZRpFrOvO",
        "outputId": "e74e2ec8-9b75-4d45-8b97-fead4d97e569"
      },
      "execution_count": null,
      "outputs": [
        {
          "output_type": "stream",
          "name": "stdout",
          "text": [
            "14\n"
          ]
        }
      ]
    },
    {
      "cell_type": "code",
      "source": [
        "#100,000,000 이하 자연수\n",
        "\n",
        "def solution(n):\n",
        "    answer = 0\n",
        "    a = n // 100000000\n",
        "    n = n % 100000000\n",
        "    b = n // 10000000\n",
        "    n = n % 10000000\n",
        "    c = n // 1000000\n",
        "    n = n % 1000000\n",
        "    d = n // 100000\n",
        "    n = n % 100000\n",
        "    e = n // 100000\n",
        "    n = n % 100000\n",
        "    f = n // 100000\n",
        "    n = n % 100000\n",
        "    g = n // 10000\n",
        "    n = n % 10000\n",
        "    h = n // 1000\n",
        "    n = n % 1000\n",
        "    i = n // 100\n",
        "    n = n % 100\n",
        "    j = n // 10\n",
        "    k = n % 10\n",
        "    answer = a + b + c + d + e + f + g + h + i + j + k\n",
        "    return answer"
      ],
      "metadata": {
        "colab": {
          "base_uri": "https://localhost:8080/"
        },
        "id": "pKq0pLrn1K6C",
        "outputId": "0cd4a5ba-aba8-4936-d0a4-0a4dcadbc30d"
      },
      "execution_count": null,
      "outputs": [
        {
          "output_type": "execute_result",
          "data": {
            "text/plain": [
              "1"
            ]
          },
          "metadata": {},
          "execution_count": 53
        }
      ]
    },
    {
      "cell_type": "code",
      "source": [
        "def solution():\n",
        "    answoer = 0\n",
        "    "
      ],
      "metadata": {
        "id": "U8sElQGi3mR5"
      },
      "execution_count": null,
      "outputs": []
    },
    {
      "cell_type": "code",
      "source": [
        "# 예를 들어, 상수의 앞에 쌓이는 재료의 순서가 [야채, 빵, 빵, 야채, 고기, 빵, 야채, 고기, 빵]일 때, \n",
        "# 상수는 여섯 번째 재료가 쌓였을 때, 세 번째 재료부터 여섯 번째 재료를 이용하여 햄버거를 포장하고, \n",
        "# 아홉 번째 재료가 쌓였을 때, 두 번째 재료와 일곱 번째 재료부터 아홉 번째 재료를 이용하여 햄버거를 포장합니다.\n",
        "# 즉, 2개의 햄버거를 포장하게 됩니다.\n",
        "\n",
        "# 상수에게 전해지는 재료의 정보를 나타내는 정수 배열 ingredient가 주어졌을 때,\n",
        "# 상수가 포장하는 햄버거의 개수를 return 하도록 solution 함수를 완성하시오."
      ],
      "metadata": {
        "id": "ppmrA_S4pCOG"
      },
      "execution_count": null,
      "outputs": []
    },
    {
      "cell_type": "code",
      "source": [
        "# [2, 1, 1, 2, 3, 1, 2, 3, 1]\t2\n",
        "# [1, 3, 2, 1, 2, 1, 3, 1, 2]\t0"
      ],
      "metadata": {
        "id": "mxMxF_srpLyZ"
      },
      "execution_count": null,
      "outputs": []
    },
    {
      "cell_type": "code",
      "source": [
        "l = [2, 1, 1, 2, 3, 1, 2, 3, 1]\n",
        "h = []\n",
        "ham_count = 0\n",
        "\n",
        "for i in l:\n",
        "    h.append(i)\n",
        "    if [1, 2, 3, 1] in h:\n",
        "        remove,l[1, 2, 3, 1]\n",
        "        ham_count += 1\n",
        "\n",
        "ham_count"
      ],
      "metadata": {
        "colab": {
          "base_uri": "https://localhost:8080/"
        },
        "id": "M9MQXZJTpP_h",
        "outputId": "d3125b5b-dd29-4885-96d3-dea9c6ea4314"
      },
      "execution_count": null,
      "outputs": [
        {
          "output_type": "execute_result",
          "data": {
            "text/plain": [
              "0"
            ]
          },
          "metadata": {},
          "execution_count": 30
        }
      ]
    },
    {
      "cell_type": "code",
      "source": [
        "l = [2, 1, 1, 2, 3, 1, 2, 3, 1]\n",
        "\n",
        "1, 2, 3 in l"
      ],
      "metadata": {
        "colab": {
          "base_uri": "https://localhost:8080/"
        },
        "id": "rJ1uqSQsqzPA",
        "outputId": "95a705c8-dc80-4a21-bdba-a6ca0fa5924b"
      },
      "execution_count": null,
      "outputs": [
        {
          "output_type": "execute_result",
          "data": {
            "text/plain": [
              "(1, 2, True)"
            ]
          },
          "metadata": {},
          "execution_count": 19
        }
      ]
    },
    {
      "cell_type": "code",
      "source": [
        "# 2023/05/18"
      ],
      "metadata": {
        "id": "0GAAvF5y5bcC"
      },
      "execution_count": null,
      "outputs": []
    },
    {
      "cell_type": "code",
      "source": [
        "대문자와 소문자가 섞여있는 문자열 s가 주어집니다. s에 'p'의 개수와 'y'의 개수를 비교해 같으면 True, 다르면 False를 return 하는 solution를 완성하세요. 'p', 'y' 모두 하나도 없는 경우는 항상 True를 리턴합니다. 단, 개수를 비교할 때 대문자와 소문자는 구별하지 않습니다.\n",
        "\n",
        "예를 들어 s가 \"pPoooyY\"면 true를 return하고 \"Pyy\"라면 false를 return합니다."
      ],
      "metadata": {
        "id": "NLwQ-a665dRH"
      },
      "execution_count": null,
      "outputs": []
    },
    {
      "cell_type": "code",
      "source": [
        "s = \"Pyy\"\n",
        "\n",
        "a = s.upper().count('P')\n",
        "b = s.upper().count('Y')\n",
        "\n",
        "print(a == b)"
      ],
      "metadata": {
        "colab": {
          "base_uri": "https://localhost:8080/"
        },
        "id": "8raWLFCe5icm",
        "outputId": "073be7f5-f36d-49e8-a23a-6feac455d46d"
      },
      "execution_count": null,
      "outputs": [
        {
          "output_type": "stream",
          "name": "stdout",
          "text": [
            "False\n"
          ]
        }
      ]
    },
    {
      "cell_type": "code",
      "source": [
        "def solution(s):\n",
        "    a = s.upper().count('P')\n",
        "    b = s.upper().count('Y')\n",
        "    return a == b\n",
        "\n",
        "solution(s)"
      ],
      "metadata": {
        "colab": {
          "base_uri": "https://localhost:8080/"
        },
        "id": "eIA58NWp5kqX",
        "outputId": "2aee90ca-ad55-4bc0-d59a-e94c9c83ea8f"
      },
      "execution_count": null,
      "outputs": [
        {
          "output_type": "execute_result",
          "data": {
            "text/plain": [
              "True"
            ]
          },
          "metadata": {},
          "execution_count": 29
        }
      ]
    },
    {
      "cell_type": "code",
      "source": [
        "[1,1,3,3,0,1,1]\t[1,3,0,1]"
      ],
      "metadata": {
        "id": "ulFCzk4f8gi0"
      },
      "execution_count": null,
      "outputs": []
    },
    {
      "cell_type": "code",
      "source": [
        "def solution(arr):\n",
        "    answer_set = []\n",
        "    answer_set = set(arr)\n",
        "    return answer_set\n",
        "\n",
        "answer_set\n",
        "\n",
        "arr()"
      ],
      "metadata": {
        "id": "xpSxiM-88hwR"
      },
      "execution_count": null,
      "outputs": []
    },
    {
      "cell_type": "code",
      "source": [
        "def solution(arr):\n",
        "    answer_set = set(arr)  # 리스트를 집합(set)으로 변환하여 중복된 원소 제거\n",
        "    return answer_set\n",
        "\n",
        "arr = [1, 1, 1, 2, 3, 3, 5, 5]\n",
        "result = solution(arr)\n",
        "\n",
        "print(result)"
      ],
      "metadata": {
        "colab": {
          "base_uri": "https://localhost:8080/"
        },
        "id": "kEDC5xP290eo",
        "outputId": "0db3946f-840b-4427-cafa-7a4dc7f3be23"
      },
      "execution_count": null,
      "outputs": [
        {
          "output_type": "stream",
          "name": "stdout",
          "text": [
            "{1, 2, 3, 5}\n"
          ]
        }
      ]
    },
    {
      "cell_type": "code",
      "source": [
        "배열 arr가 주어집니다. 배열 arr의 각 원소는 숫자 0부터 9까지로 이루어져 있습니다. 이때, 배열 arr에서 연속적으로 나타나는 숫자는 하나만 남기고 전부 제거하려고 합니다. 단, 제거된 후 남은 수들을 반환할 때는 배열 arr의 원소들의 순서를 유지해야 합니다. 예를 들면,\n",
        "\n",
        "arr = [1, 1, 3, 3, 0, 1, 1] 이면 [1, 3, 0, 1] 을 return 합니다.\n",
        "arr = [4, 4, 4, 3, 3] 이면 [4, 3] 을 return 합니다.\n",
        "배열 arr에서 연속적으로 나타나는 숫자는 제거하고 남은 수들을 return 하는 solution 함수를 완성해 주세요.\n",
        "\n",
        "제한사항\n",
        "배열 arr의 크기 : 1,000,000 이하의 자연수\n",
        "배열 arr의 원소의 크기 : 0보다 크거나 같고 9보다 작거나 같은 정수\n",
        "\n",
        "[1,1,3,3,0,1,1]\t[1,3,0,1]\n",
        "\n"
      ],
      "metadata": {
        "id": "ec6HZwlg-N8a"
      },
      "execution_count": null,
      "outputs": []
    },
    {
      "cell_type": "code",
      "source": [
        "answer = [1, 1, 2, 3, 3, 4]\n",
        "a = set(answer)\n",
        "\n",
        "a"
      ],
      "metadata": {
        "colab": {
          "base_uri": "https://localhost:8080/"
        },
        "id": "gPbsz5bE84z_",
        "outputId": "3dfaa4af-9c01-480d-9a60-370cac1e162f"
      },
      "execution_count": null,
      "outputs": [
        {
          "output_type": "execute_result",
          "data": {
            "text/plain": [
              "{1, 2, 3, 4}"
            ]
          },
          "metadata": {},
          "execution_count": 40
        }
      ]
    },
    {
      "cell_type": "code",
      "source": [
        "문자열 str이 주어질 때, str을 출력하는 코드를 작성해 보세요.\n",
        "\n",
        "제한사항\n",
        "1 ≤ str의 길이 ≤ 1,000,000\n",
        "str에는 공백이 없으며, 첫째 줄에 한 줄로만 주어집니다."
      ],
      "metadata": {
        "id": "-ymvJzsWboah"
      },
      "execution_count": null,
      "outputs": []
    },
    {
      "cell_type": "code",
      "source": [
        "str = input()\n",
        "\n",
        "print(str)"
      ],
      "metadata": {
        "colab": {
          "base_uri": "https://localhost:8080/"
        },
        "id": "h4bptTCgb5Gd",
        "outputId": "49ad399b-077e-44d5-8d06-2ae846943934"
      },
      "execution_count": 1,
      "outputs": [
        {
          "output_type": "stream",
          "name": "stdout",
          "text": [
            "helloworld!!\n",
            "helloworld!!\n"
          ]
        }
      ]
    },
    {
      "cell_type": "code",
      "source": [
        "# 정수 a와 b가 주어집니다. 각 수를 입력받아 입출력 예와 같은 형식으로 출력하는 코드를 작성해 보세요."
      ],
      "metadata": {
        "id": "l8KJJ4Efd02C"
      },
      "execution_count": null,
      "outputs": []
    },
    {
      "cell_type": "code",
      "source": [
        "a,b = input().split()\n",
        "\n",
        "print(\"a =\", a)\n",
        "print(\"b =\", b)"
      ],
      "metadata": {
        "colab": {
          "base_uri": "https://localhost:8080/"
        },
        "id": "gS9Ym2WfeJYP",
        "outputId": "952c4ea9-b890-4c60-f79b-10df73d74a3e"
      },
      "execution_count": 16,
      "outputs": [
        {
          "output_type": "stream",
          "name": "stdout",
          "text": [
            "4 5\n",
            "a = 4\n",
            "b = 5\n"
          ]
        }
      ]
    }
  ]
}