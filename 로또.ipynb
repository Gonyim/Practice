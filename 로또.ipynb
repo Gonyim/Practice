{
  "nbformat": 4,
  "nbformat_minor": 0,
  "metadata": {
    "colab": {
      "provenance": [],
      "authorship_tag": "ABX9TyNRK/iSHJzVsknHhpuM1uEX",
      "include_colab_link": true
    },
    "kernelspec": {
      "name": "python3",
      "display_name": "Python 3"
    },
    "language_info": {
      "name": "python"
    }
  },
  "cells": [
    {
      "cell_type": "markdown",
      "metadata": {
        "id": "view-in-github",
        "colab_type": "text"
      },
      "source": [
        "<a href=\"https://colab.research.google.com/github/Gonyim/Practice/blob/main/%EB%A1%9C%EB%98%90.ipynb\" target=\"_parent\"><img src=\"https://colab.research.google.com/assets/colab-badge.svg\" alt=\"Open In Colab\"/></a>"
      ]
    },
    {
      "cell_type": "markdown",
      "source": [
        "# 로또 번호 추첨"
      ],
      "metadata": {
        "id": "2frBLiLaYnpd"
      }
    },
    {
      "cell_type": "code",
      "execution_count": null,
      "metadata": {
        "id": "ySIrmq-YYhEZ"
      },
      "outputs": [],
      "source": [
        "# ------------------------\n",
        "# 1. Frequency-based selection\n",
        "# ------------------------\n",
        "def freq_based(numbers, n=6):\n",
        "    \"\"\"Selects the n most frequently appearing numbers.\"\"\"\n",
        "    freq_sorted = numbers.value_counts().sort_values(ascending=False)\n",
        "    return freq_sorted.index[:n].tolist()\n",
        "\n",
        "print(\"Frequency-based selection:\", freq_based(all_numbers_new))\n",
        "\n",
        "\n",
        "# ------------------------\n",
        "# 2. Imbalance Theory\n",
        "# ------------------------\n",
        "def imbalance_theory(numbers, n=6):\n",
        "    \"\"\"Selects the n least frequently appearing numbers.\"\"\"\n",
        "    freq_sorted = numbers.value_counts().sort_values(ascending=True)\n",
        "    return freq_sorted.index[:n].tolist()\n",
        "\n",
        "print(\"Imbalance Theory:\", imbalance_theory(all_numbers_new))\n",
        "\n",
        "\n",
        "# ------------------------\n",
        "# 3. Delta Method\n",
        "# ------------------------\n",
        "def delta_method(df, n=6):\n",
        "    \"\"\"Selects the n numbers with the smallest difference between them.\"\"\"\n",
        "    deltas = df.diff().abs().sum(axis=1)\n",
        "    delta_sorted = deltas.sort_values(ascending=True)\n",
        "    smallest_delta_row = df.loc[delta_sorted.index[0]]\n",
        "    return smallest_delta_row.tolist()\n",
        "\n",
        "print(\"Delta Method:\", delta_method(df_numbers))\n",
        "\n",
        "\n",
        "# ------------------------\n",
        "# 4. Arithmetic Sequence Selection\n",
        "# ------------------------\n",
        "def arithmetic_seq(n=6, start=1, step=1):\n",
        "    \"\"\"Selects a sequence of numbers with a common difference.\"\"\"\n",
        "    return list(range(start, start + n*step, step))\n",
        "\n",
        "print(\"Arithmetic Sequence Selection:\", arithmetic_seq())\n",
        "\n",
        "\n",
        "# ------------------------\n",
        "# 5. Random Number Generation\n",
        "# ------------------------\n",
        "def random_gen(n=6, min_num=1, max_num=45):\n",
        "    \"\"\"Selects n unique random numbers.\"\"\"\n",
        "    return np.random.choice(range(min_num, max_num+1), size=n, replace=False).tolist()\n",
        "\n",
        "print(\"Random Number Generation:\", random_gen())\n",
        "\n",
        "\n",
        "# ------------------------\n",
        "# 6. Hot Numbers\n",
        "# ------------------------\n",
        "def hot_numbers(df, n=6):\n",
        "    \"\"\"Selects the n most frequently appearing numbers from the latest draws.\"\"\"\n",
        "    latest_rows = df.iloc[-5:]\n",
        "    latest_numbers = pd.concat([latest_rows['번호'+str(i)] for i in range(1, 7)])\n",
        "    freq_sorted = latest_numbers.value_counts().sort_values(ascending=False)\n",
        "    return freq_sorted.index[:n].tolist()\n",
        "\n",
        "print(\"Hot Numbers:\", hot_numbers(df_new))\n",
        "\n",
        "\n",
        "# ------------------------\n",
        "# 7. Cold Numbers\n",
        "# ------------------------\n",
        "def cold_numbers(df, n=6):\n",
        "    \"\"\"Selects the n least frequently appearing numbers from the latest draws.\"\"\"\n",
        "    latest_rows = df.iloc[-5:]\n",
        "    latest_numbers = pd.concat([latest_rows['번호'+str(i)] for i in range(1, 7)])\n",
        "    freq_sorted = latest_numbers.value_counts().sort_values(ascending=True)\n",
        "    return freq_sorted.index[:n].tolist()\n",
        "\n",
        "print(\"Cold Numbers:\", cold_numbers(df_new))\n"
      ]
    }
  ]
}