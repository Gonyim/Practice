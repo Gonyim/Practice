{
  "nbformat": 4,
  "nbformat_minor": 0,
  "metadata": {
    "colab": {
      "provenance": [],
      "authorship_tag": "ABX9TyN+Rhoghj850s2o6a4m4YyO",
      "include_colab_link": true
    },
    "kernelspec": {
      "name": "python3",
      "display_name": "Python 3"
    },
    "language_info": {
      "name": "python"
    }
  },
  "cells": [
    {
      "cell_type": "markdown",
      "metadata": {
        "id": "view-in-github",
        "colab_type": "text"
      },
      "source": [
        "<a href=\"https://colab.research.google.com/github/Gonyim/Practice/blob/main/%EC%95%8C%EA%B3%A0%EB%A6%AC%EC%A6%98(%ED%8C%8C%EC%9D%B4%EC%8D%AC).ipynb\" target=\"_parent\"><img src=\"https://colab.research.google.com/assets/colab-badge.svg\" alt=\"Open In Colab\"/></a>"
      ]
    },
    {
      "cell_type": "markdown",
      "source": [
        "##Algorithm 1.1: Sequential Search"
      ],
      "metadata": {
        "id": "oxuGMQsez8wX"
      }
    },
    {
      "cell_type": "code",
      "execution_count": 7,
      "metadata": {
        "colab": {
          "base_uri": "https://localhost:8080/"
        },
        "id": "F1aoXHTvySds",
        "outputId": "cffcbd56-fb61-455c-820d-1b8941284ec5"
      },
      "outputs": [
        {
          "output_type": "stream",
          "name": "stdout",
          "text": [
            "location = 0\n"
          ]
        }
      ],
      "source": [
        "\n",
        "def seqsearch (n, S, x):\n",
        "    location = 1\n",
        "    while (location <= n and S[location] != x):\n",
        "        location += 1\n",
        "    if (location > n):\n",
        "        location = 0\n",
        "    return location\n",
        "\n",
        "S = [0, 10, 7, 11, 5, 13, 8]\n",
        "# X 에 4 또는 5 대입\n",
        "X = 4\n",
        "location = seqsearch(len(S) - 1, S, X)\n",
        "print('location =', location)"
      ]
    },
    {
      "cell_type": "markdown",
      "source": [
        "## Algorithm 1.2: Add Array Elements"
      ],
      "metadata": {
        "id": "Y6FRnuRr0DMt"
      }
    },
    {
      "cell_type": "code",
      "source": [
        "def sum (n, S):\n",
        "    result = 0\n",
        "    for i in range(1, n + 1):\n",
        "        result = result + S[i]\n",
        "    return result\n",
        "\n",
        "\n",
        "S = [-1, 10, 7, 11, 5, 13, 8]\n",
        "sum = sum(len(S) - 1, S)\n",
        "print('sum =', sum)"
      ],
      "metadata": {
        "colab": {
          "base_uri": "https://localhost:8080/"
        },
        "id": "TyaeJe430L2u",
        "outputId": "e2c66073-c58b-40e4-f39f-06d5e01e2e6b"
      },
      "execution_count": 6,
      "outputs": [
        {
          "output_type": "stream",
          "name": "stdout",
          "text": [
            "sum = 54\n"
          ]
        }
      ]
    },
    {
      "cell_type": "markdown",
      "source": [
        "##Algorithm 1.3: Exchange Sort"
      ],
      "metadata": {
        "id": "OyjBHAFl1a9Y"
      }
    },
    {
      "cell_type": "code",
      "source": [
        "def exchange(S):\n",
        "    n = len(S)\n",
        "    for i in range(n - 1):\n",
        "        for j in range(i + 1, n):\n",
        "            if (S[i] > S[j]):\n",
        "                S[i], S[j] = S[j], S[i] # swap\n",
        "\n",
        "S = [-1, 10, 7, 11, 5, 13, 8]\n",
        "print('Before =', S)\n",
        "exchange(S)\n",
        "print('After =', S)"
      ],
      "metadata": {
        "colab": {
          "base_uri": "https://localhost:8080/"
        },
        "id": "yd4Yt2Sz1e_c",
        "outputId": "ca6641fb-344e-48a3-c162-81b1ee641550"
      },
      "execution_count": 12,
      "outputs": [
        {
          "output_type": "stream",
          "name": "stdout",
          "text": [
            "Before = [-1, 10, 7, 11, 5, 13, 8]\n",
            "After = [-1, 5, 7, 8, 10, 11, 13]\n"
          ]
        }
      ]
    },
    {
      "cell_type": "code",
      "source": [
        "def exchange (n, S):\n",
        "    for i in range(1, n):\n",
        "        for j in range(i + 1, n + 1):\n",
        "            if (S[j] < S[i]):\n",
        "                S[i], S[j] = S[j], S[i]\n",
        "\n",
        "S = [-1, 10, 7, 11, 5, 13, 8]\n",
        "print('Before =', S)\n",
        "exchange(len(S) - 1, S)\n",
        "print('After =', S)"
      ],
      "metadata": {
        "colab": {
          "base_uri": "https://localhost:8080/"
        },
        "id": "ONDY57oi4cEg",
        "outputId": "db76192f-e19c-4138-e0ab-6b10a2e86543"
      },
      "execution_count": 14,
      "outputs": [
        {
          "output_type": "stream",
          "name": "stdout",
          "text": [
            "Before = [-1, 10, 7, 11, 5, 13, 8]\n",
            "After = [-1, 5, 7, 8, 10, 11, 13]\n"
          ]
        }
      ]
    }
  ]
}